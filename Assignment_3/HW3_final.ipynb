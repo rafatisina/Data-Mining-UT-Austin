{
  "nbformat": 4,
  "nbformat_minor": 0,
  "metadata": {
    "kernelspec": {
      "name": "python3",
      "display_name": "Python 3"
    },
    "language_info": {
      "codemirror_mode": {
        "name": "ipython",
        "version": 3
      },
      "file_extension": ".py",
      "mimetype": "text/x-python",
      "name": "python",
      "nbconvert_exporter": "python",
      "pygments_lexer": "ipython3",
      "version": "3.7.4"
    },
    "colab": {
      "name": "HW3_final3.ipynb",
      "provenance": [],
      "collapsed_sections": [],
      "toc_visible": true
    },
    "accelerator": "GPU",
    "widgets": {
      "application/vnd.jupyter.widget-state+json": {
        "802718e7826a4ca58b132764fd61ff0c": {
          "model_module": "@jupyter-widgets/controls",
          "model_name": "HBoxModel",
          "state": {
            "_view_name": "HBoxView",
            "_dom_classes": [],
            "_model_name": "HBoxModel",
            "_view_module": "@jupyter-widgets/controls",
            "_model_module_version": "1.5.0",
            "_view_count": null,
            "_view_module_version": "1.5.0",
            "box_style": "",
            "layout": "IPY_MODEL_93216f574dcb4d95bfc767000503ad5a",
            "_model_module": "@jupyter-widgets/controls",
            "children": [
              "IPY_MODEL_cf3ff30e08b6406da9778fb71ed987d2",
              "IPY_MODEL_7df89205a8b8415a9549d73e700c1a3d"
            ]
          }
        },
        "93216f574dcb4d95bfc767000503ad5a": {
          "model_module": "@jupyter-widgets/base",
          "model_name": "LayoutModel",
          "state": {
            "_view_name": "LayoutView",
            "grid_template_rows": null,
            "right": null,
            "justify_content": null,
            "_view_module": "@jupyter-widgets/base",
            "overflow": null,
            "_model_module_version": "1.2.0",
            "_view_count": null,
            "flex_flow": null,
            "width": null,
            "min_width": null,
            "border": null,
            "align_items": null,
            "bottom": null,
            "_model_module": "@jupyter-widgets/base",
            "top": null,
            "grid_column": null,
            "overflow_y": null,
            "overflow_x": null,
            "grid_auto_flow": null,
            "grid_area": null,
            "grid_template_columns": null,
            "flex": null,
            "_model_name": "LayoutModel",
            "justify_items": null,
            "grid_row": null,
            "max_height": null,
            "align_content": null,
            "visibility": null,
            "align_self": null,
            "height": null,
            "min_height": null,
            "padding": null,
            "grid_auto_rows": null,
            "grid_gap": null,
            "max_width": null,
            "order": null,
            "_view_module_version": "1.2.0",
            "grid_template_areas": null,
            "object_position": null,
            "object_fit": null,
            "grid_auto_columns": null,
            "margin": null,
            "display": null,
            "left": null
          }
        },
        "cf3ff30e08b6406da9778fb71ed987d2": {
          "model_module": "@jupyter-widgets/controls",
          "model_name": "IntProgressModel",
          "state": {
            "_view_name": "ProgressView",
            "style": "IPY_MODEL_15b7f82f654e40fb8ac7c2f59ed94997",
            "_dom_classes": [],
            "description": "",
            "_model_name": "IntProgressModel",
            "bar_style": "info",
            "max": 1,
            "_view_module": "@jupyter-widgets/controls",
            "_model_module_version": "1.5.0",
            "value": 1,
            "_view_count": null,
            "_view_module_version": "1.5.0",
            "orientation": "horizontal",
            "min": 0,
            "description_tooltip": null,
            "_model_module": "@jupyter-widgets/controls",
            "layout": "IPY_MODEL_e5cf5b091f5646a28958b16bba161f02"
          }
        },
        "7df89205a8b8415a9549d73e700c1a3d": {
          "model_module": "@jupyter-widgets/controls",
          "model_name": "HTMLModel",
          "state": {
            "_view_name": "HTMLView",
            "style": "IPY_MODEL_f088c32610b34f8e9c315e23ffb5624b",
            "_dom_classes": [],
            "description": "",
            "_model_name": "HTMLModel",
            "placeholder": "​",
            "_view_module": "@jupyter-widgets/controls",
            "_model_module_version": "1.5.0",
            "value": " 9920512/? [00:20&lt;00:00, 5202435.70it/s]",
            "_view_count": null,
            "_view_module_version": "1.5.0",
            "description_tooltip": null,
            "_model_module": "@jupyter-widgets/controls",
            "layout": "IPY_MODEL_3c31bf4e888945baaedf9f6096267e03"
          }
        },
        "15b7f82f654e40fb8ac7c2f59ed94997": {
          "model_module": "@jupyter-widgets/controls",
          "model_name": "ProgressStyleModel",
          "state": {
            "_view_name": "StyleView",
            "_model_name": "ProgressStyleModel",
            "description_width": "initial",
            "_view_module": "@jupyter-widgets/base",
            "_model_module_version": "1.5.0",
            "_view_count": null,
            "_view_module_version": "1.2.0",
            "bar_color": null,
            "_model_module": "@jupyter-widgets/controls"
          }
        },
        "e5cf5b091f5646a28958b16bba161f02": {
          "model_module": "@jupyter-widgets/base",
          "model_name": "LayoutModel",
          "state": {
            "_view_name": "LayoutView",
            "grid_template_rows": null,
            "right": null,
            "justify_content": null,
            "_view_module": "@jupyter-widgets/base",
            "overflow": null,
            "_model_module_version": "1.2.0",
            "_view_count": null,
            "flex_flow": null,
            "width": null,
            "min_width": null,
            "border": null,
            "align_items": null,
            "bottom": null,
            "_model_module": "@jupyter-widgets/base",
            "top": null,
            "grid_column": null,
            "overflow_y": null,
            "overflow_x": null,
            "grid_auto_flow": null,
            "grid_area": null,
            "grid_template_columns": null,
            "flex": null,
            "_model_name": "LayoutModel",
            "justify_items": null,
            "grid_row": null,
            "max_height": null,
            "align_content": null,
            "visibility": null,
            "align_self": null,
            "height": null,
            "min_height": null,
            "padding": null,
            "grid_auto_rows": null,
            "grid_gap": null,
            "max_width": null,
            "order": null,
            "_view_module_version": "1.2.0",
            "grid_template_areas": null,
            "object_position": null,
            "object_fit": null,
            "grid_auto_columns": null,
            "margin": null,
            "display": null,
            "left": null
          }
        },
        "f088c32610b34f8e9c315e23ffb5624b": {
          "model_module": "@jupyter-widgets/controls",
          "model_name": "DescriptionStyleModel",
          "state": {
            "_view_name": "StyleView",
            "_model_name": "DescriptionStyleModel",
            "description_width": "",
            "_view_module": "@jupyter-widgets/base",
            "_model_module_version": "1.5.0",
            "_view_count": null,
            "_view_module_version": "1.2.0",
            "_model_module": "@jupyter-widgets/controls"
          }
        },
        "3c31bf4e888945baaedf9f6096267e03": {
          "model_module": "@jupyter-widgets/base",
          "model_name": "LayoutModel",
          "state": {
            "_view_name": "LayoutView",
            "grid_template_rows": null,
            "right": null,
            "justify_content": null,
            "_view_module": "@jupyter-widgets/base",
            "overflow": null,
            "_model_module_version": "1.2.0",
            "_view_count": null,
            "flex_flow": null,
            "width": null,
            "min_width": null,
            "border": null,
            "align_items": null,
            "bottom": null,
            "_model_module": "@jupyter-widgets/base",
            "top": null,
            "grid_column": null,
            "overflow_y": null,
            "overflow_x": null,
            "grid_auto_flow": null,
            "grid_area": null,
            "grid_template_columns": null,
            "flex": null,
            "_model_name": "LayoutModel",
            "justify_items": null,
            "grid_row": null,
            "max_height": null,
            "align_content": null,
            "visibility": null,
            "align_self": null,
            "height": null,
            "min_height": null,
            "padding": null,
            "grid_auto_rows": null,
            "grid_gap": null,
            "max_width": null,
            "order": null,
            "_view_module_version": "1.2.0",
            "grid_template_areas": null,
            "object_position": null,
            "object_fit": null,
            "grid_auto_columns": null,
            "margin": null,
            "display": null,
            "left": null
          }
        },
        "0aa7ef6cf7ef4e71a6df55af24cbcaad": {
          "model_module": "@jupyter-widgets/controls",
          "model_name": "HBoxModel",
          "state": {
            "_view_name": "HBoxView",
            "_dom_classes": [],
            "_model_name": "HBoxModel",
            "_view_module": "@jupyter-widgets/controls",
            "_model_module_version": "1.5.0",
            "_view_count": null,
            "_view_module_version": "1.5.0",
            "box_style": "",
            "layout": "IPY_MODEL_3596e2b60ff1448c96b3e342c2b2127e",
            "_model_module": "@jupyter-widgets/controls",
            "children": [
              "IPY_MODEL_04955fec447e49d8ae9f749fc496a0a2",
              "IPY_MODEL_70ac806d5fc942c08ef7eb88f6c132f2"
            ]
          }
        },
        "3596e2b60ff1448c96b3e342c2b2127e": {
          "model_module": "@jupyter-widgets/base",
          "model_name": "LayoutModel",
          "state": {
            "_view_name": "LayoutView",
            "grid_template_rows": null,
            "right": null,
            "justify_content": null,
            "_view_module": "@jupyter-widgets/base",
            "overflow": null,
            "_model_module_version": "1.2.0",
            "_view_count": null,
            "flex_flow": null,
            "width": null,
            "min_width": null,
            "border": null,
            "align_items": null,
            "bottom": null,
            "_model_module": "@jupyter-widgets/base",
            "top": null,
            "grid_column": null,
            "overflow_y": null,
            "overflow_x": null,
            "grid_auto_flow": null,
            "grid_area": null,
            "grid_template_columns": null,
            "flex": null,
            "_model_name": "LayoutModel",
            "justify_items": null,
            "grid_row": null,
            "max_height": null,
            "align_content": null,
            "visibility": null,
            "align_self": null,
            "height": null,
            "min_height": null,
            "padding": null,
            "grid_auto_rows": null,
            "grid_gap": null,
            "max_width": null,
            "order": null,
            "_view_module_version": "1.2.0",
            "grid_template_areas": null,
            "object_position": null,
            "object_fit": null,
            "grid_auto_columns": null,
            "margin": null,
            "display": null,
            "left": null
          }
        },
        "04955fec447e49d8ae9f749fc496a0a2": {
          "model_module": "@jupyter-widgets/controls",
          "model_name": "IntProgressModel",
          "state": {
            "_view_name": "ProgressView",
            "style": "IPY_MODEL_56c2bc24517f414eb77ef98c3dab15c8",
            "_dom_classes": [],
            "description": "",
            "_model_name": "IntProgressModel",
            "bar_style": "success",
            "max": 1,
            "_view_module": "@jupyter-widgets/controls",
            "_model_module_version": "1.5.0",
            "value": 1,
            "_view_count": null,
            "_view_module_version": "1.5.0",
            "orientation": "horizontal",
            "min": 0,
            "description_tooltip": null,
            "_model_module": "@jupyter-widgets/controls",
            "layout": "IPY_MODEL_6d5878b91e7b487bb81dac2b8588fe29"
          }
        },
        "70ac806d5fc942c08ef7eb88f6c132f2": {
          "model_module": "@jupyter-widgets/controls",
          "model_name": "HTMLModel",
          "state": {
            "_view_name": "HTMLView",
            "style": "IPY_MODEL_e6e839ca28b24019997c9e3cf4a7ae61",
            "_dom_classes": [],
            "description": "",
            "_model_name": "HTMLModel",
            "placeholder": "​",
            "_view_module": "@jupyter-widgets/controls",
            "_model_module_version": "1.5.0",
            "value": " 32768/? [00:00&lt;00:00, 51104.29it/s]",
            "_view_count": null,
            "_view_module_version": "1.5.0",
            "description_tooltip": null,
            "_model_module": "@jupyter-widgets/controls",
            "layout": "IPY_MODEL_de86c8d3473d4a6abe80d3a97df21540"
          }
        },
        "56c2bc24517f414eb77ef98c3dab15c8": {
          "model_module": "@jupyter-widgets/controls",
          "model_name": "ProgressStyleModel",
          "state": {
            "_view_name": "StyleView",
            "_model_name": "ProgressStyleModel",
            "description_width": "initial",
            "_view_module": "@jupyter-widgets/base",
            "_model_module_version": "1.5.0",
            "_view_count": null,
            "_view_module_version": "1.2.0",
            "bar_color": null,
            "_model_module": "@jupyter-widgets/controls"
          }
        },
        "6d5878b91e7b487bb81dac2b8588fe29": {
          "model_module": "@jupyter-widgets/base",
          "model_name": "LayoutModel",
          "state": {
            "_view_name": "LayoutView",
            "grid_template_rows": null,
            "right": null,
            "justify_content": null,
            "_view_module": "@jupyter-widgets/base",
            "overflow": null,
            "_model_module_version": "1.2.0",
            "_view_count": null,
            "flex_flow": null,
            "width": null,
            "min_width": null,
            "border": null,
            "align_items": null,
            "bottom": null,
            "_model_module": "@jupyter-widgets/base",
            "top": null,
            "grid_column": null,
            "overflow_y": null,
            "overflow_x": null,
            "grid_auto_flow": null,
            "grid_area": null,
            "grid_template_columns": null,
            "flex": null,
            "_model_name": "LayoutModel",
            "justify_items": null,
            "grid_row": null,
            "max_height": null,
            "align_content": null,
            "visibility": null,
            "align_self": null,
            "height": null,
            "min_height": null,
            "padding": null,
            "grid_auto_rows": null,
            "grid_gap": null,
            "max_width": null,
            "order": null,
            "_view_module_version": "1.2.0",
            "grid_template_areas": null,
            "object_position": null,
            "object_fit": null,
            "grid_auto_columns": null,
            "margin": null,
            "display": null,
            "left": null
          }
        },
        "e6e839ca28b24019997c9e3cf4a7ae61": {
          "model_module": "@jupyter-widgets/controls",
          "model_name": "DescriptionStyleModel",
          "state": {
            "_view_name": "StyleView",
            "_model_name": "DescriptionStyleModel",
            "description_width": "",
            "_view_module": "@jupyter-widgets/base",
            "_model_module_version": "1.5.0",
            "_view_count": null,
            "_view_module_version": "1.2.0",
            "_model_module": "@jupyter-widgets/controls"
          }
        },
        "de86c8d3473d4a6abe80d3a97df21540": {
          "model_module": "@jupyter-widgets/base",
          "model_name": "LayoutModel",
          "state": {
            "_view_name": "LayoutView",
            "grid_template_rows": null,
            "right": null,
            "justify_content": null,
            "_view_module": "@jupyter-widgets/base",
            "overflow": null,
            "_model_module_version": "1.2.0",
            "_view_count": null,
            "flex_flow": null,
            "width": null,
            "min_width": null,
            "border": null,
            "align_items": null,
            "bottom": null,
            "_model_module": "@jupyter-widgets/base",
            "top": null,
            "grid_column": null,
            "overflow_y": null,
            "overflow_x": null,
            "grid_auto_flow": null,
            "grid_area": null,
            "grid_template_columns": null,
            "flex": null,
            "_model_name": "LayoutModel",
            "justify_items": null,
            "grid_row": null,
            "max_height": null,
            "align_content": null,
            "visibility": null,
            "align_self": null,
            "height": null,
            "min_height": null,
            "padding": null,
            "grid_auto_rows": null,
            "grid_gap": null,
            "max_width": null,
            "order": null,
            "_view_module_version": "1.2.0",
            "grid_template_areas": null,
            "object_position": null,
            "object_fit": null,
            "grid_auto_columns": null,
            "margin": null,
            "display": null,
            "left": null
          }
        },
        "036491e66a5e4f3780d1a641a1e90dbd": {
          "model_module": "@jupyter-widgets/controls",
          "model_name": "HBoxModel",
          "state": {
            "_view_name": "HBoxView",
            "_dom_classes": [],
            "_model_name": "HBoxModel",
            "_view_module": "@jupyter-widgets/controls",
            "_model_module_version": "1.5.0",
            "_view_count": null,
            "_view_module_version": "1.5.0",
            "box_style": "",
            "layout": "IPY_MODEL_b3db06d81641435d9de7251ce95b687d",
            "_model_module": "@jupyter-widgets/controls",
            "children": [
              "IPY_MODEL_7ee51e048c224bc08ab2699b5e1951fd",
              "IPY_MODEL_3f2525795f324db5b9815afa12286d79"
            ]
          }
        },
        "b3db06d81641435d9de7251ce95b687d": {
          "model_module": "@jupyter-widgets/base",
          "model_name": "LayoutModel",
          "state": {
            "_view_name": "LayoutView",
            "grid_template_rows": null,
            "right": null,
            "justify_content": null,
            "_view_module": "@jupyter-widgets/base",
            "overflow": null,
            "_model_module_version": "1.2.0",
            "_view_count": null,
            "flex_flow": null,
            "width": null,
            "min_width": null,
            "border": null,
            "align_items": null,
            "bottom": null,
            "_model_module": "@jupyter-widgets/base",
            "top": null,
            "grid_column": null,
            "overflow_y": null,
            "overflow_x": null,
            "grid_auto_flow": null,
            "grid_area": null,
            "grid_template_columns": null,
            "flex": null,
            "_model_name": "LayoutModel",
            "justify_items": null,
            "grid_row": null,
            "max_height": null,
            "align_content": null,
            "visibility": null,
            "align_self": null,
            "height": null,
            "min_height": null,
            "padding": null,
            "grid_auto_rows": null,
            "grid_gap": null,
            "max_width": null,
            "order": null,
            "_view_module_version": "1.2.0",
            "grid_template_areas": null,
            "object_position": null,
            "object_fit": null,
            "grid_auto_columns": null,
            "margin": null,
            "display": null,
            "left": null
          }
        },
        "7ee51e048c224bc08ab2699b5e1951fd": {
          "model_module": "@jupyter-widgets/controls",
          "model_name": "IntProgressModel",
          "state": {
            "_view_name": "ProgressView",
            "style": "IPY_MODEL_4dad714cff8f441ab32f786a49f12bb4",
            "_dom_classes": [],
            "description": "",
            "_model_name": "IntProgressModel",
            "bar_style": "info",
            "max": 1,
            "_view_module": "@jupyter-widgets/controls",
            "_model_module_version": "1.5.0",
            "value": 1,
            "_view_count": null,
            "_view_module_version": "1.5.0",
            "orientation": "horizontal",
            "min": 0,
            "description_tooltip": null,
            "_model_module": "@jupyter-widgets/controls",
            "layout": "IPY_MODEL_be9643bdbbe2447bab709b98d274f05d"
          }
        },
        "3f2525795f324db5b9815afa12286d79": {
          "model_module": "@jupyter-widgets/controls",
          "model_name": "HTMLModel",
          "state": {
            "_view_name": "HTMLView",
            "style": "IPY_MODEL_58ad2c4f3123400d8320354f81b25cd1",
            "_dom_classes": [],
            "description": "",
            "_model_name": "HTMLModel",
            "placeholder": "​",
            "_view_module": "@jupyter-widgets/controls",
            "_model_module_version": "1.5.0",
            "value": " 1654784/? [00:16&lt;00:00, 943344.63it/s]",
            "_view_count": null,
            "_view_module_version": "1.5.0",
            "description_tooltip": null,
            "_model_module": "@jupyter-widgets/controls",
            "layout": "IPY_MODEL_01bc7f8dee254ea993a89d16d3a74697"
          }
        },
        "4dad714cff8f441ab32f786a49f12bb4": {
          "model_module": "@jupyter-widgets/controls",
          "model_name": "ProgressStyleModel",
          "state": {
            "_view_name": "StyleView",
            "_model_name": "ProgressStyleModel",
            "description_width": "initial",
            "_view_module": "@jupyter-widgets/base",
            "_model_module_version": "1.5.0",
            "_view_count": null,
            "_view_module_version": "1.2.0",
            "bar_color": null,
            "_model_module": "@jupyter-widgets/controls"
          }
        },
        "be9643bdbbe2447bab709b98d274f05d": {
          "model_module": "@jupyter-widgets/base",
          "model_name": "LayoutModel",
          "state": {
            "_view_name": "LayoutView",
            "grid_template_rows": null,
            "right": null,
            "justify_content": null,
            "_view_module": "@jupyter-widgets/base",
            "overflow": null,
            "_model_module_version": "1.2.0",
            "_view_count": null,
            "flex_flow": null,
            "width": null,
            "min_width": null,
            "border": null,
            "align_items": null,
            "bottom": null,
            "_model_module": "@jupyter-widgets/base",
            "top": null,
            "grid_column": null,
            "overflow_y": null,
            "overflow_x": null,
            "grid_auto_flow": null,
            "grid_area": null,
            "grid_template_columns": null,
            "flex": null,
            "_model_name": "LayoutModel",
            "justify_items": null,
            "grid_row": null,
            "max_height": null,
            "align_content": null,
            "visibility": null,
            "align_self": null,
            "height": null,
            "min_height": null,
            "padding": null,
            "grid_auto_rows": null,
            "grid_gap": null,
            "max_width": null,
            "order": null,
            "_view_module_version": "1.2.0",
            "grid_template_areas": null,
            "object_position": null,
            "object_fit": null,
            "grid_auto_columns": null,
            "margin": null,
            "display": null,
            "left": null
          }
        },
        "58ad2c4f3123400d8320354f81b25cd1": {
          "model_module": "@jupyter-widgets/controls",
          "model_name": "DescriptionStyleModel",
          "state": {
            "_view_name": "StyleView",
            "_model_name": "DescriptionStyleModel",
            "description_width": "",
            "_view_module": "@jupyter-widgets/base",
            "_model_module_version": "1.5.0",
            "_view_count": null,
            "_view_module_version": "1.2.0",
            "_model_module": "@jupyter-widgets/controls"
          }
        },
        "01bc7f8dee254ea993a89d16d3a74697": {
          "model_module": "@jupyter-widgets/base",
          "model_name": "LayoutModel",
          "state": {
            "_view_name": "LayoutView",
            "grid_template_rows": null,
            "right": null,
            "justify_content": null,
            "_view_module": "@jupyter-widgets/base",
            "overflow": null,
            "_model_module_version": "1.2.0",
            "_view_count": null,
            "flex_flow": null,
            "width": null,
            "min_width": null,
            "border": null,
            "align_items": null,
            "bottom": null,
            "_model_module": "@jupyter-widgets/base",
            "top": null,
            "grid_column": null,
            "overflow_y": null,
            "overflow_x": null,
            "grid_auto_flow": null,
            "grid_area": null,
            "grid_template_columns": null,
            "flex": null,
            "_model_name": "LayoutModel",
            "justify_items": null,
            "grid_row": null,
            "max_height": null,
            "align_content": null,
            "visibility": null,
            "align_self": null,
            "height": null,
            "min_height": null,
            "padding": null,
            "grid_auto_rows": null,
            "grid_gap": null,
            "max_width": null,
            "order": null,
            "_view_module_version": "1.2.0",
            "grid_template_areas": null,
            "object_position": null,
            "object_fit": null,
            "grid_auto_columns": null,
            "margin": null,
            "display": null,
            "left": null
          }
        },
        "a0c5f144fbc740c09a92738202e8b0f4": {
          "model_module": "@jupyter-widgets/controls",
          "model_name": "HBoxModel",
          "state": {
            "_view_name": "HBoxView",
            "_dom_classes": [],
            "_model_name": "HBoxModel",
            "_view_module": "@jupyter-widgets/controls",
            "_model_module_version": "1.5.0",
            "_view_count": null,
            "_view_module_version": "1.5.0",
            "box_style": "",
            "layout": "IPY_MODEL_2f9514fed7e94da0bfa6b0add477ab55",
            "_model_module": "@jupyter-widgets/controls",
            "children": [
              "IPY_MODEL_c4ce03c27a824097b295ddf25c794036",
              "IPY_MODEL_afb9d31b054e4f1496cb812af47d5245"
            ]
          }
        },
        "2f9514fed7e94da0bfa6b0add477ab55": {
          "model_module": "@jupyter-widgets/base",
          "model_name": "LayoutModel",
          "state": {
            "_view_name": "LayoutView",
            "grid_template_rows": null,
            "right": null,
            "justify_content": null,
            "_view_module": "@jupyter-widgets/base",
            "overflow": null,
            "_model_module_version": "1.2.0",
            "_view_count": null,
            "flex_flow": null,
            "width": null,
            "min_width": null,
            "border": null,
            "align_items": null,
            "bottom": null,
            "_model_module": "@jupyter-widgets/base",
            "top": null,
            "grid_column": null,
            "overflow_y": null,
            "overflow_x": null,
            "grid_auto_flow": null,
            "grid_area": null,
            "grid_template_columns": null,
            "flex": null,
            "_model_name": "LayoutModel",
            "justify_items": null,
            "grid_row": null,
            "max_height": null,
            "align_content": null,
            "visibility": null,
            "align_self": null,
            "height": null,
            "min_height": null,
            "padding": null,
            "grid_auto_rows": null,
            "grid_gap": null,
            "max_width": null,
            "order": null,
            "_view_module_version": "1.2.0",
            "grid_template_areas": null,
            "object_position": null,
            "object_fit": null,
            "grid_auto_columns": null,
            "margin": null,
            "display": null,
            "left": null
          }
        },
        "c4ce03c27a824097b295ddf25c794036": {
          "model_module": "@jupyter-widgets/controls",
          "model_name": "IntProgressModel",
          "state": {
            "_view_name": "ProgressView",
            "style": "IPY_MODEL_921c722c3858433aacbf851d9b240e00",
            "_dom_classes": [],
            "description": "  0%",
            "_model_name": "IntProgressModel",
            "bar_style": "info",
            "max": 1,
            "_view_module": "@jupyter-widgets/controls",
            "_model_module_version": "1.5.0",
            "value": 0,
            "_view_count": null,
            "_view_module_version": "1.5.0",
            "orientation": "horizontal",
            "min": 0,
            "description_tooltip": null,
            "_model_module": "@jupyter-widgets/controls",
            "layout": "IPY_MODEL_b9411852b0f94985894a71713a60324a"
          }
        },
        "afb9d31b054e4f1496cb812af47d5245": {
          "model_module": "@jupyter-widgets/controls",
          "model_name": "HTMLModel",
          "state": {
            "_view_name": "HTMLView",
            "style": "IPY_MODEL_7b371eeba0dc4f96a65c3ae653e88169",
            "_dom_classes": [],
            "description": "",
            "_model_name": "HTMLModel",
            "placeholder": "​",
            "_view_module": "@jupyter-widgets/controls",
            "_model_module_version": "1.5.0",
            "value": " 0/4542 [00:00&lt;?, ?it/s]",
            "_view_count": null,
            "_view_module_version": "1.5.0",
            "description_tooltip": null,
            "_model_module": "@jupyter-widgets/controls",
            "layout": "IPY_MODEL_398243cb07014a6695934b3f7a812e71"
          }
        },
        "921c722c3858433aacbf851d9b240e00": {
          "model_module": "@jupyter-widgets/controls",
          "model_name": "ProgressStyleModel",
          "state": {
            "_view_name": "StyleView",
            "_model_name": "ProgressStyleModel",
            "description_width": "initial",
            "_view_module": "@jupyter-widgets/base",
            "_model_module_version": "1.5.0",
            "_view_count": null,
            "_view_module_version": "1.2.0",
            "bar_color": null,
            "_model_module": "@jupyter-widgets/controls"
          }
        },
        "b9411852b0f94985894a71713a60324a": {
          "model_module": "@jupyter-widgets/base",
          "model_name": "LayoutModel",
          "state": {
            "_view_name": "LayoutView",
            "grid_template_rows": null,
            "right": null,
            "justify_content": null,
            "_view_module": "@jupyter-widgets/base",
            "overflow": null,
            "_model_module_version": "1.2.0",
            "_view_count": null,
            "flex_flow": null,
            "width": null,
            "min_width": null,
            "border": null,
            "align_items": null,
            "bottom": null,
            "_model_module": "@jupyter-widgets/base",
            "top": null,
            "grid_column": null,
            "overflow_y": null,
            "overflow_x": null,
            "grid_auto_flow": null,
            "grid_area": null,
            "grid_template_columns": null,
            "flex": null,
            "_model_name": "LayoutModel",
            "justify_items": null,
            "grid_row": null,
            "max_height": null,
            "align_content": null,
            "visibility": null,
            "align_self": null,
            "height": null,
            "min_height": null,
            "padding": null,
            "grid_auto_rows": null,
            "grid_gap": null,
            "max_width": null,
            "order": null,
            "_view_module_version": "1.2.0",
            "grid_template_areas": null,
            "object_position": null,
            "object_fit": null,
            "grid_auto_columns": null,
            "margin": null,
            "display": null,
            "left": null
          }
        },
        "7b371eeba0dc4f96a65c3ae653e88169": {
          "model_module": "@jupyter-widgets/controls",
          "model_name": "DescriptionStyleModel",
          "state": {
            "_view_name": "StyleView",
            "_model_name": "DescriptionStyleModel",
            "description_width": "",
            "_view_module": "@jupyter-widgets/base",
            "_model_module_version": "1.5.0",
            "_view_count": null,
            "_view_module_version": "1.2.0",
            "_model_module": "@jupyter-widgets/controls"
          }
        },
        "398243cb07014a6695934b3f7a812e71": {
          "model_module": "@jupyter-widgets/base",
          "model_name": "LayoutModel",
          "state": {
            "_view_name": "LayoutView",
            "grid_template_rows": null,
            "right": null,
            "justify_content": null,
            "_view_module": "@jupyter-widgets/base",
            "overflow": null,
            "_model_module_version": "1.2.0",
            "_view_count": null,
            "flex_flow": null,
            "width": null,
            "min_width": null,
            "border": null,
            "align_items": null,
            "bottom": null,
            "_model_module": "@jupyter-widgets/base",
            "top": null,
            "grid_column": null,
            "overflow_y": null,
            "overflow_x": null,
            "grid_auto_flow": null,
            "grid_area": null,
            "grid_template_columns": null,
            "flex": null,
            "_model_name": "LayoutModel",
            "justify_items": null,
            "grid_row": null,
            "max_height": null,
            "align_content": null,
            "visibility": null,
            "align_self": null,
            "height": null,
            "min_height": null,
            "padding": null,
            "grid_auto_rows": null,
            "grid_gap": null,
            "max_width": null,
            "order": null,
            "_view_module_version": "1.2.0",
            "grid_template_areas": null,
            "object_position": null,
            "object_fit": null,
            "grid_auto_columns": null,
            "margin": null,
            "display": null,
            "left": null
          }
        }
      }
    }
  },
  "cells": [
    {
      "cell_type": "markdown",
      "metadata": {
        "id": "XCHfNuIIsSsi",
        "colab_type": "text"
      },
      "source": [
        "# <p style=\"text-align: center;\">EE 380L:  Data Mining</p>\n",
        "# <p style=\"text-align: center;\">Homework 3</p>\n",
        "## <p style=\"text-align: center;\">Total points: 50 </p>\n",
        "## <p style=\"text-align: center;\">Due: Friday April 17th, 2020, submitted via Canvas by 11:59 pm </p>\n",
        "\n",
        "Your homework should be written in a **Jupyter notebook**. It is an individual homework. Be sure to include name and UTID. \n",
        "\n",
        "Please make sure your code runs and the graphics (and anything else) are displayed in your notebook before submitting. (%matplotlib inline)\n"
      ]
    },
    {
      "cell_type": "code",
      "metadata": {
        "id": "A0zc3ykxs-ea",
        "colab_type": "code",
        "colab": {}
      },
      "source": [
        "!pip install -U -q PyDrive\n",
        "from pydrive.auth import GoogleAuth\n",
        "from pydrive.drive import GoogleDrive\n",
        "from google.colab import auth\n",
        "from oauth2client.client import GoogleCredentials\n",
        "# Authenticate and create the PyDrive client.\n",
        "auth.authenticate_user()\n",
        "gauth = GoogleAuth()\n",
        "gauth.credentials = GoogleCredentials.get_application_default()\n",
        "drive = GoogleDrive(gauth)"
      ],
      "execution_count": 0,
      "outputs": []
    },
    {
      "cell_type": "markdown",
      "metadata": {
        "id": "t-e8-wTEsSsj",
        "colab_type": "text"
      },
      "source": [
        "# Question 1 (20 points)"
      ]
    },
    {
      "cell_type": "markdown",
      "metadata": {
        "id": "eUiF3HNDsSsk",
        "colab_type": "text"
      },
      "source": [
        "**1. Using stochastic gradient descent, derive the coefficent updates for all 5 coefficients of the model: $$ y = w_0 + w_1*x_1 + w_2*x_1*x_2 + w_3*x_2 + w_4*x_2^2+w_5*x_1*x_2*x_3+w_6*x_3$$ Hint: start from the cost function (Assume sum of squared error). If you write the math by hand, submit that as a separate file and make a reference to it in your notebook or include the image in your notebook.**\n",
        "\n",
        "\n",
        "Let's start with a change of variable: \n",
        "\n",
        "$$ y = w_0*X_0 + w_1*X_1 + w_2*X_2 + w_3*X_3 + w_4*X_4+w_5*X_5+w_6*X_6$$\n",
        "\n",
        "Where\n",
        "$$X_0=1;  X_1=x_1; X_2=x_1*x_2; X_3=x_2;   X_4=x_2^2;  X_5=x_1*x_2*x_3;  X_6=x_3; $$\n",
        "\n",
        "Therefore,\n",
        "\n",
        "$$\t\\sum_{i=0}^{6} w_i.X_i =W^T.X$$\n",
        "\n",
        "Then we define our cost function as sum of squared error:\n",
        "$$ L =\t\\frac{1}{2}(\\sum_{i}^{m}(y^{(i)}-\\hat{y}^{(i)})^2 + \\lambda \\sum_{j=0}^{p}w_j^2$$\n",
        "\n",
        "Then we can use equation below to find magnitude and direction of the weight updated computed by taking a step in the opposite direction of thecost gradient \n",
        "$$ \\Delta w_j = - \\alpha \\frac {\\partial L} {\\partial w_j}; $$\n",
        "where $\\alpha$ is the learning rate. \n",
        "\n",
        "The weights are then updated after each epoch via:        **W**:=**W**+ $\\Delta$**W**\n",
        "\n",
        "\n",
        "Therefore, \n",
        "\n",
        "$$ \\Delta w_j = - \\alpha \\frac {\\partial L} {\\partial w_j}$$\n",
        "\n",
        "$$= - \\alpha( \\sum_{i}{(y^{(i)}-\\hat{y}^{(i)})}  (-X_j^{(i)})+  \\lambda \\sum_{j=0}^{p}w_j)$$\n",
        "\n",
        "\n",
        "\n",
        "In Stochastic Gradient Descent (SGD), we update the weights after each training sample:\n",
        "\n",
        "\n",
        "    \n",
        "    \n",
        "  \n",
        "\n",
        "- For one or more eapoches or until minimum cost is achieved:\n",
        "    - for training sample i:\n",
        "         - for each weight j:      \n",
        "$$w_j:=w_j+\\Delta w_j$$\n",
        "\n",
        "lets first find first part: \n",
        "\n",
        "$$\\Delta w_j^1:=\\alpha {(y^{(i)}-\\hat{y}^{(i)})}  (X_j^{(i)}) $$\n",
        "\n",
        "which means: \n",
        "\n",
        "$$\\Delta w_0^1:=\\alpha {(y^{(i)}-\\hat{y}^{(i)})}  (X_0^{(i)}) $$\n",
        "\n",
        "$$\\Delta w_1^1:=\\alpha {(y^{(i)}-\\hat{y}^{(i)})}  (X_1^{(i)}) $$\n",
        "\n",
        "$$\\Delta w_2^1:=\\alpha {(y^{(i)}-\\hat{y}^{(i)})}  (X_2^{(i)}) $$\n",
        "\n",
        "$$\\Delta w_3^1:=\\alpha {(y^{(i)}-\\hat{y}^{(i)})}  (X_3^{(i)}) $$\n",
        "\n",
        "$$\\Delta w_4^1:=\\alpha {(y^{(i)}-\\hat{y}^{(i)})}  (X_4^{(i)}) $$\n",
        "\n",
        "$$\\Delta w_5^1:=\\alpha {(y^{(i)}-\\hat{y}^{(i)})}  (X_5^{(i)}) $$\n",
        "\n",
        "$$\\Delta w_6^1:=\\alpha {(y^{(i)}-\\hat{y}^{(i)})}  (X_6^{(i)}) $$\n",
        "\n",
        "Hence, \n",
        "\n",
        "\n",
        "$$\\Delta w_0^1:=\\alpha {(y^{(i)}-\\hat{y}^{(i)})}  (1) $$\n",
        "\n",
        "$$\\Delta w_1^1:=\\alpha {(y^{(i)}-\\hat{y}^{(i)})}  (x_1^{(i)})$$  \n",
        "$$\\Delta w_2^1:=\\alpha {(y^{(i)}-\\hat{y}^{(i)})}  (x_1^{(i)}*x_2^{(i)})$$\n",
        "\n",
        "$$\\Delta w_3^1:=\\alpha {(y^{(i)}-\\hat{y}^{(i)})}  (x_2^{(i)}) $$\n",
        "\n",
        "$$\\Delta w_4^1:=\\alpha {(y^{(i)}-\\hat{y}^{(i)})}  (x_2^{(i)}*x_2^{(i)}) $$\n",
        "\n",
        "$$\\Delta w_5^1:=\\alpha {(y^{(i)}-\\hat{y}^{(i)})}  (x_1^{(i)}*x_2^{(i)}*x_3^{(i)}) $$\n",
        "\n",
        "$$\\Delta w_6^1:=\\alpha {(y^{(i)}-\\hat{y}^{(i)})}  (x_3^{(i)}) $$\n",
        "\n",
        "\n",
        "and second part,\n",
        "\n",
        "$$\\Delta w_j^2=\\lambda \\sum_{j=0}^{p}w_j $$\n",
        "\n",
        "Note that these updates are performaed per each of training sample i. \n",
        "\n",
        "So finally, \n",
        "\n",
        "$$\\begin{bmatrix} w_0\\\\w_1\\\\ w_2\\\\w_3\\\\w_4\\\\ w_5\\\\w_6\\end{bmatrix}:=\\begin{bmatrix} w_0\\\\w_1\\\\ w_2\\\\w_3\\\\w_4\\\\ w_5\\\\w_6\\end{bmatrix}-\\alpha \\begin{bmatrix} {(y^{(i)}-\\hat{y}^{(i)})}\\\\{(y^{(i)}-\\hat{y}^{(i)})} x_1\\\\ {(y^{(i)}-\\hat{y}^{(i)})} x_1 x_2\\\\{(y^{(i)}-\\hat{y}^{(i)})} x_2\\\\{(y^{(i)}-\\hat{y}^{(i)})} x_2^2 \\\\ {(y^{(i)}-\\hat{y}^{(i)})} x_1 x_2 x_3\\\\{(y^{(i)}-\\hat{y}^{(i)})} x_3\\end{bmatrix}+  \\lambda \\sum_{j=0}^{p}w_j$$\n"
      ]
    },
    {
      "cell_type": "markdown",
      "metadata": {
        "id": "4fL4-qGYsSsq",
        "colab_type": "text"
      },
      "source": [
        "2. Write Python code for an SGD solution to the non-linear model $$ y = w_0 + w_1*x_1 + w_2*x_1*x_2 + w_3*x_2 + w_4*x_2^2+w_5*x_1*x_2*x_3+w_6*x_3$$ Try to format similarly to scikit-learn's models. Your class should take as input the learning_rate, regularization_constant and number of epochs. The fit method must take as input X,y. The _predict_ method takes an X value (optionally, an array of values). Use your new gradient descent regression to predict the data given in 'samples.csv', for 10 epochs, using learning_rate = [0.000001, 0.00001, 0.0001, 0.001] and regularization constants in the range: [0,10] . Plot MSE and the $w$ parameters as a function of epoch count (10 epochs) for the best 2 combinations of learning_rate and regularization. ie you should have plots of MSE and parameter updates. Report the MSE at the end of 10 epochs for both combinations."
      ]
    },
    {
      "cell_type": "code",
      "metadata": {
        "id": "H9WZPXF2sSsr",
        "colab_type": "code",
        "colab": {}
      },
      "source": [
        "class SGD:\n",
        "    def __init__(self,X,Y,alpha_val,lambda_val,epoches,Xtest):\n",
        "        self.X=X\n",
        "        self.Y=Y\n",
        "        self.Xtest=Xtest\n",
        "        self.alpha_val=alpha_val\n",
        "        self.lambda_val=lambda_val\n",
        "        self.epoches=epoches\n",
        "        \n",
        "    def fit(self):  \n",
        "        Loss_matrix = np.zeros((epoches,len(self.alpha_val),len(self.lambda_val))) # Pre-allocate matrix\n",
        "        W_matrix    = np.zeros((epoches,self.X.shape[1],len(self.alpha_val),len(self.lambda_val))) # Pre-allocate matrix\n",
        "        # seed=1989\n",
        "        for countlambda,lambdaval in enumerate(self.lambda_val): \n",
        "            for countalpha,alphaval in enumerate(self.alpha_val): \n",
        "                W=np.random.rand(7,1)\n",
        "                # W=np.zeros((7,1))\n",
        "                losslog=[]\n",
        "                Wlog=[]\n",
        "                for k in range(self.epoches): \n",
        "                    for i in range(self.X.shape[0]):                        \n",
        "                        ffd=(W.T).dot(self.X[i,:].reshape(-1,1))\n",
        "                        Loss=(ffd-self.Y[i])**2\n",
        "                        dw=2*(ffd-self.Y[i])*self.X[i,:].reshape(-1,1)\n",
        "                        W=W-self.alpha_val[countalpha]*dw+(0.5)*lambdaval*np.sum(W**2)       #SGD update \n",
        "                    # W=W+(0.5)*lambdaval*np.sum(W**2)   #regularization                   \n",
        "                    losslog.append(Loss)\n",
        "                    Wlog.append(W)\n",
        "                losslog=np.asarray(losslog)\n",
        "                Wlog=np.asarray(Wlog)\n",
        "                Loss_matrix[:,countalpha,countlambda]=losslog[:,0,0]\n",
        "                W_matrix[:,:,countalpha,countlambda]=Wlog[:,:,0]\n",
        "\n",
        "        void=Loss_matrix[self.epoches-1,:,:].copy()\n",
        "        loc=np.where(void==np.nanmin(void))\n",
        "        gr_a_1=loc[0]\n",
        "        gr_l_1=loc[1]\n",
        "        void[gr_a_1,gr_l_1]=np.nan\n",
        "        loc=np.where(void==np.nanmin(void))\n",
        "        gr_a_2=loc[0]\n",
        "        gr_l_2=loc[1]\n",
        "        \n",
        "        \n",
        "        figure(num=None, figsize=(3, 5), dpi=80, facecolor='w', edgecolor='k')\n",
        "        plt.plot((Loss_matrix[:,gr_a_1,gr_l_1]),'s-')\n",
        "        plt.plot((Loss_matrix[:,gr_a_2,gr_l_2]),'d-')\n",
        "        plt.legend((r'$\\alpha =1e-4  and \\lambda=0$'  ,r'$\\alpha = 1e-6 and \\lambda=0$'))\n",
        "        plt.grid()\n",
        "        plt.title('MSE')\n",
        "        plt.xlabel('Epoches')\n",
        "        plt.ylabel('MSE')\n",
        "\n",
        "        figure(num=None, figsize=(8, 10), dpi=80, facecolor='w', edgecolor='k')\n",
        "        plt.subplot(211)\n",
        "        for k in range (W_matrix.shape[1]):\n",
        "            plt.plot(W_matrix[:,k,gr_a_1,gr_l_1], label='W%d' %k)\n",
        "\n",
        "        plt.grid()\n",
        "        plt.title('Ws-case1 with learning rate of %.7f and lambda of %.7f'% (alpha_val[gr_a_1],lambda_val[gr_l_1]) )\n",
        "        plt.xlabel('epoches')\n",
        "        plt.ylabel('weights')\n",
        "\n",
        "        plt.subplot(212)\n",
        "        for k in range (W_matrix.shape[1]):\n",
        "            plt.plot(W_matrix[:,k,gr_a_2,gr_l_2], label='W%d' %k)\n",
        "        plt.title('Ws-case2 with learning rate of %.7f and lambda of %.7f'% (alpha_val[gr_a_2],lambda_val[gr_l_2]) )\n",
        "        plt.xlabel('epoches')\n",
        "        plt.ylabel('weights')\n",
        "        plt.grid()\n",
        "\n",
        "        plt.legend()\n",
        "        plt.show() \n",
        "\n",
        "        MSE1=Loss_matrix[-1,gr_a_1,gr_l_1]\n",
        "        L1=lambda_val[gr_l_1]\n",
        "        a1=alpha_val[gr_a_1]\n",
        "        print(\"MSE 1st is {} with learning rate of {} and Lambda of {}\".format(round(np.sqrt(MSE1[0]),4),a1[0,0],L1[0,0]))\n",
        "        MSE2=Loss_matrix[-1,gr_a_2,gr_l_2]\n",
        "        L2=lambda_val[gr_l_2]\n",
        "        a2=alpha_val[gr_a_2]\n",
        "        print(\"MSE 2nd is {} with learning rate of {} and Lambda of {}\".format(round(np.sqrt(MSE2[0]),4),a2[0,0],L2[0,0]))\n",
        "        W_matrix_out=W_matrix[:,:,gr_a_1,gr_l_1]\n",
        "        W_matrix_out=W_matrix_out[-1,:,0].reshape(-1,1)\n",
        "        self.W_matrix_out=W_matrix_out\n",
        "\n",
        "    def predict(self,Xtest): \n",
        "        self.Xtest=Xtest\n",
        "        ffd=(self.Xtest).dot(self.W_matrix_out)\n",
        "\n",
        "        return(ffd)"
      ],
      "execution_count": 0,
      "outputs": []
    },
    {
      "cell_type": "code",
      "metadata": {
        "id": "L9xHLuwesSsu",
        "colab_type": "code",
        "outputId": "f2a6b0f1-fa05-4eac-ecb7-8bd7601e0836",
        "colab": {
          "base_uri": "https://localhost:8080/",
          "height": 1000
        }
      },
      "source": [
        "import pandas as pd\n",
        "import numpy as np\n",
        "import matplotlib.pyplot as plt\n",
        "from matplotlib.pyplot import figure \n",
        "\n",
        "link='https://drive.google.com/open?id=1mwD4l7R3xWUZ3pQJ9z6Uc3oXuSQ8bapL'\n",
        "fluff, id = link.split('=')\n",
        "downloaded = drive.CreateFile({'id':id}) \n",
        "downloaded.GetContentFile('samples1.csv')  \n",
        "df = pd.read_csv('samples1.csv')\n",
        "\n",
        "### Data preparation\n",
        "# df = pd.read_csv(\"samples1.csv\")\n",
        "X=df[['x_1','x_2','x_3']]\n",
        "y=df['y']\n",
        "X=(X.to_numpy())\n",
        "y=(y.to_numpy())\n",
        "x1=X[:,0].reshape(-1,1)\n",
        "x2=X[:,1].reshape(-1,1)\n",
        "x3=X[:,2].reshape(-1,1)\n",
        "x0=abs(x3)*0+1\n",
        "Xvect=np.concatenate((x0,x1,x1*x2,x2,x2**2,x1*x2*x3,x3), axis=1)\n",
        "Yvect=y.reshape(-1,1)\n",
        "epoche_val=20\n",
        "win=np.zeros((7,1))\n",
        "Xvect.shape\n",
        "Learning_rates = [0.000001, 0.00001, 0.0001, 0.001]\n",
        "Lambda_rates = np.asarray(list(range(10)))\n",
        "m=X.shape[0]\n",
        "\n",
        "### Input parameters \n",
        "epoches =10\n",
        "alpha=[0.000001, 0.00001, 0.0001, 0.001]\n",
        "alpha_val=np.asarray(alpha)\n",
        "alpha_val=alpha_val.reshape(-1,1)\n",
        "\n",
        "lambda_val = [j for j in range(0,10)]\n",
        "lambda_val=np.asarray(lambda_val)\n",
        "lambda_val=lambda_val.reshape(-1,1)\n",
        "\n",
        "### using SGD\n",
        "Xtest= W=np.random.rand(10,3)\n",
        "x1t=Xtest[:,0].reshape(-1,1)\n",
        "x2t=Xtest[:,1].reshape(-1,1)\n",
        "x3t=Xtest[:,2].reshape(-1,1)\n",
        "x0t=abs(x3t)*0+1\n",
        "Xtest_vect=np.concatenate((x0t,x1t,x1t*x2t,x2t,x2t**2,x1t*x2t*x3t,x3t), axis=1)\n",
        "\n",
        "model=SGD(Xvect,Yvect,alpha_val,lambda_val,epoches,Xtest_vect)\n",
        "model.fit()\n",
        "prediction=model.predict(Xtest_vect)"
      ],
      "execution_count": 6,
      "outputs": [
        {
          "output_type": "stream",
          "text": [
            "/usr/local/lib/python3.6/dist-packages/ipykernel_launcher.py:23: RuntimeWarning: overflow encountered in square\n",
            "/usr/local/lib/python3.6/dist-packages/ipykernel_launcher.py:25: RuntimeWarning: overflow encountered in square\n",
            "/usr/local/lib/python3.6/dist-packages/ipykernel_launcher.py:25: RuntimeWarning: invalid value encountered in multiply\n"
          ],
          "name": "stderr"
        },
        {
          "output_type": "display_data",
          "data": {
            "image/png": "[encoded data removed]",
            "text/plain": [
              "<Figure size 240x400 with 1 Axes>"
            ]
          },
          "metadata": {
            "tags": []
          }
        },
        {
          "output_type": "display_data",
          "data": {
            "image/png": "[encoded data removed]",
            "text/plain": [
              "<Figure size 640x800 with 2 Axes>"
            ]
          },
          "metadata": {
            "tags": []
          }
        },
        {
          "output_type": "stream",
          "text": [
            "MSE 1st is 1.7036 with learning rate of 1e-06 and Lambda of 0\n",
            "MSE 2nd is 1.9034 with learning rate of 0.0001 and Lambda of 0\n"
          ],
          "name": "stdout"
        }
      ]
    },
    {
      "cell_type": "markdown",
      "metadata": {
        "id": "4H_uRiyZsSsw",
        "colab_type": "text"
      },
      "source": [
        "# (Optional) Notes on Training with Gradient Descent\n",
        "1. Compute error: This consists of a prediction error, and a regularization term. From an implementation perspective, this is a function that takes as input the truth, prediction and regularization hyperparameter and returns an error\n",
        "2. Compute gradients: Take a derivative of the error in terms of the weights. This can be modeled as a function that takes as input the error and features and returns the gradients for each weight\n",
        "3. Update weights: Weight updates will be done using SGD. The update function takes as inputs the gradient and hyperparameters and returns the new weights."
      ]
    },
    {
      "cell_type": "markdown",
      "metadata": {
        "id": "_We8AhLFsSsx",
        "colab_type": "text"
      },
      "source": [
        "# Question 2: Multi-layer Perceptron regressor (20 points)\n",
        "\n",
        "In this question, you will explore the application of Multi-layer Perceptron (MLP) regression using sklearn package in Python. We will use the same dataset used in HW2 Q5: Hitters.csv [here](https://rdrr.io/cran/ISLR/man/Hitters.html). \n",
        "\n",
        "Following code will load and split the data into training and test set using [train_test_split](http://scikit-learn.org/stable/modules/generated/sklearn.model_selection.train_test_split.html) with **random state 42** and **test_size = 0.33**:"
      ]
    },
    {
      "cell_type": "markdown",
      "metadata": {
        "id": "WRgU6d9jq9EN",
        "colab_type": "text"
      },
      "source": [
        "# Option 1 using cross_val_score with KFold"
      ]
    },
    {
      "cell_type": "code",
      "metadata": {
        "id": "PK68JIXQsSs0",
        "colab_type": "code",
        "outputId": "69cb9041-f50c-4fea-f0ee-e04715918f01",
        "colab": {
          "base_uri": "https://localhost:8080/",
          "height": 66
        }
      },
      "source": [
        "import pandas as pd\n",
        "import numpy as np\n",
        "from sklearn.model_selection import (train_test_split,KFold)\n",
        "from sklearn.metrics import mean_squared_error\n",
        "from sklearn.neural_network import MLPRegressor\n",
        "from sklearn.preprocessing import StandardScaler\n",
        "from sklearn import metrics,linear_model,model_selection\n",
        "import matplotlib.pyplot as plt\n",
        "from sklearn.model_selection import cross_val_score\n",
        "from sklearn.metrics import mean_squared_error\n",
        "\n",
        "%matplotlib inline\n",
        "\n",
        "\n",
        "link='https://drive.google.com/open?id=1ss0Z2P58r4XULuAW4GbmIdCEPzjjBaz8'\n",
        "fluff, id = link.split('=')\n",
        "downloaded = drive.CreateFile({'id':id}) \n",
        "downloaded.GetContentFile('Hitters.csv')  \n",
        "data = pd.read_csv('Hitters.csv')\n",
        "\n",
        "\n",
        "# data = pd.read_csv('Hitters.csv')\n",
        "label_name = 'Salary'\n",
        "y = data[label_name]\n",
        "X = data.drop(label_name,axis=1)\n",
        "X_train, X_test, y_train, y_test = train_test_split(X,y,test_size = 0.33, random_state=42)\n",
        "\n",
        "\n",
        "X_scaler = StandardScaler()\n",
        "X_train = X_scaler.fit_transform(X_train)\n",
        "X_test = X_scaler.transform(X_test)\n",
        "\n",
        "##### Q2.1\n",
        "\n",
        "regressor = MLPRegressor(activation = 'tanh', solver = 'sgd', learning_rate = 'constant', random_state = 42,batch_size=40, learning_rate_init = 0.001)\n",
        "scores = cross_val_score(regressor, X_train, y_train, scoring='neg_mean_squared_error', cv=5)\n",
        "Scores_1=np.mean(scores)*-1\n",
        "\n",
        "print (\"The root-mean-squared values for Q2.1 is {}\".format(np.sqrt(Scores_1)))\n",
        "\n",
        "##### Q2.1\n",
        "## a\n",
        "regressor = MLPRegressor(hidden_layer_sizes = (2,) ,activation = 'tanh', solver = 'sgd', learning_rate = 'constant', random_state = 42,batch_size=40, learning_rate_init = 0.001)\n",
        "scores = cross_val_score(regressor, X_train, y_train, scoring='neg_mean_squared_error', cv=5)\n",
        "Scores_2=np.mean(scores)*-1\n",
        "\n",
        "print (\"The root-mean-squared values for 2 hidden units is {}\".format(np.sqrt(Scores_2)))\n",
        "\n",
        "## b\n",
        "regressor = MLPRegressor(hidden_layer_sizes = (15,) ,activation = 'tanh', solver = 'sgd', learning_rate = 'constant', random_state = 42,batch_size=40, learning_rate_init = 0.001)\n",
        "scores = cross_val_score(regressor, X_train, y_train, scoring='neg_mean_squared_error', cv=5)\n",
        "Scores_3=np.mean(scores)*-1\n",
        "\n",
        "print (\"The root-mean-squared values for 15 hidden units is {}\".format(np.sqrt(Scores_3)))"
      ],
      "execution_count": 0,
      "outputs": [
        {
          "output_type": "stream",
          "text": [
            "The root-mean-squared values for Q2.1 is 288.3822605236804\n",
            "The root-mean-squared values for 2 hidden units is 416.9910277005125\n",
            "The root-mean-squared values for 15 hidden units is 326.5307447331957\n"
          ],
          "name": "stdout"
        }
      ]
    },
    {
      "cell_type": "markdown",
      "metadata": {
        "id": "4rPVDkLvsFy2",
        "colab_type": "text"
      },
      "source": [
        "# option 2 using Kfold "
      ]
    },
    {
      "cell_type": "code",
      "metadata": {
        "id": "0931iQutsFSg",
        "colab_type": "code",
        "outputId": "efc49ccb-6172-4e5b-fd32-aab120b99c7c",
        "colab": {
          "base_uri": "https://localhost:8080/",
          "height": 50
        }
      },
      "source": [
        "import pandas as pd\n",
        "import numpy as np\n",
        "from sklearn.model_selection import (train_test_split,KFold)\n",
        "from sklearn.metrics import mean_squared_error\n",
        "from sklearn.neural_network import MLPRegressor\n",
        "from sklearn.preprocessing import StandardScaler\n",
        "from sklearn import metrics,linear_model,model_selection\n",
        "import matplotlib.pyplot as plt\n",
        "from sklearn.model_selection import cross_val_score\n",
        "from sklearn.metrics import mean_squared_error\n",
        "\n",
        "%matplotlib inline\n",
        "\n",
        "\n",
        "link='https://drive.google.com/open?id=1ss0Z2P58r4XULuAW4GbmIdCEPzjjBaz8'\n",
        "fluff, id = link.split('=')\n",
        "downloaded = drive.CreateFile({'id':id}) \n",
        "downloaded.GetContentFile('Hitters.csv')  \n",
        "data = pd.read_csv('Hitters.csv')\n",
        "\n",
        "\n",
        "# data = pd.read_csv('Hitters.csv')\n",
        "label_name = 'Salary'\n",
        "y = data[label_name]\n",
        "X = data.drop(label_name,axis=1)\n",
        "X_train, X_test, y_train, y_test = train_test_split(X,y,test_size = 0.33, random_state=42)\n",
        "\n",
        "\n",
        "X_scaler = StandardScaler()\n",
        "X_train = X_scaler.fit_transform(X_train)\n",
        "X_test = X_scaler.transform(X_test)\n",
        "\n",
        "\n",
        "regressor = MLPRegressor(hidden_layer_sizes = (2,),activation = 'tanh', solver = 'sgd', learning_rate='constant', random_state=42, batch_size=40, learning_rate_init = 0.001)\n",
        "nkfold=5\n",
        "kf = KFold(n_splits=nkfold)\n",
        "\n",
        "RMSE=[]\n",
        "for i, j in kf.split(X_train):\n",
        "    x_train_fold, x_test_fold = X_train[i], X_train[j ]\n",
        "    y_train_fold, y_test_fold = y_train.to_numpy()[i], y_train.to_numpy()[j ]\n",
        "    regressor.fit(x_train_fold, y_train_fold)\n",
        "    y_pred_fold = regressor.predict(x_test_fold)\n",
        "    RMSE.append(np.sqrt((np.linalg.norm(y_pred_fold - y_test_fold)**2)/y_pred_fold.shape[0]))\n",
        "    \n",
        "\n",
        "\n",
        "\n",
        "print (\"The root-mean-squared values for 2 hidden units is {}\".format(np.asarray(RMSE).mean()))\n",
        "\n",
        "regressor = MLPRegressor(hidden_layer_sizes = (15,),activation = 'tanh', solver = 'sgd', learning_rate='constant', random_state=42, batch_size=40, learning_rate_init = 0.001)\n",
        "nkfold=5\n",
        "kf = KFold(n_splits=nkfold)\n",
        "\n",
        "RMSE=[]\n",
        "for i, j in kf.split(X_train):\n",
        "    x_train_fold, x_test_fold = X_train[i], X_train[j ]\n",
        "    y_train_fold, y_test_fold = y_train.to_numpy()[i], y_train.to_numpy()[j ]\n",
        "    regressor.fit(x_train_fold, y_train_fold)\n",
        "    y_pred_fold = regressor.predict(x_test_fold)\n",
        "    RMSE.append(np.sqrt((np.linalg.norm(y_pred_fold - y_test_fold)**2)/y_pred_fold.shape[0]))\n",
        "\n",
        "\n",
        "\n",
        "print (\"The root-mean-squared values for 15 hidden units is {}\".format(np.asarray(RMSE).mean()))"
      ],
      "execution_count": 0,
      "outputs": [
        {
          "output_type": "stream",
          "text": [
            "The root-mean-squared values for 2 hidden units is 408.6576404140361\n",
            "The root-mean-squared values for 15 hidden units is 320.1430062292724\n"
          ],
          "name": "stdout"
        }
      ]
    },
    {
      "cell_type": "code",
      "metadata": {
        "id": "Imc7GJt8sSs3",
        "colab_type": "code",
        "outputId": "f1ee1e77-fbfb-4272-8b0a-b5e8c93f871a",
        "colab": {
          "base_uri": "https://localhost:8080/",
          "height": 66
        }
      },
      "source": [
        "##### Q2\n",
        "\n",
        "regressor = MLPRegressor(activation = 'tanh', solver = 'sgd', learning_rate = 'constant', random_state = 42,batch_size=40, learning_rate_init = 0.001)\n",
        "regressor.fit(X_train, y_train)\n",
        "\n",
        "yhat_train = regressor.predict(X_train)\n",
        "yhat_test = regressor.predict(X_test)\n",
        "RMSE_train =(np.sqrt((np.linalg.norm(y_train - yhat_train)**2)/yhat_train.shape[0]))\n",
        "RMSE_test =(np.sqrt((np.linalg.norm(y_test - yhat_test)**2)/yhat_test.shape[0]))  \n",
        "print (\"The root-mean-squared values for Q2 is,  Train: {}   Test:  {} \".format(RMSE_train,RMSE_test))\n",
        "\n",
        "# ##### Q2.2\n",
        "# ## a\n",
        "regressor = MLPRegressor(hidden_layer_sizes = (2,) ,activation = 'tanh', solver = 'sgd', learning_rate = 'constant', random_state = 42,batch_size=40, learning_rate_init = 0.001)\n",
        "regressor.fit(X_train, y_train)\n",
        "\n",
        "yhat_train = regressor.predict(X_train)\n",
        "yhat_test = regressor.predict(X_test)\n",
        "\n",
        "RMSE_train =(np.sqrt((np.linalg.norm(y_train - yhat_train)**2)/yhat_train.shape[0]))\n",
        "RMSE_test =(np.sqrt((np.linalg.norm(y_test - yhat_test)**2)/yhat_test.shape[0]))  \n",
        "\n",
        "\n",
        "print (\"The root-mean-squared values for 2 hidden units is:  Train: {}   Test:  {} \".format(RMSE_train,RMSE_test))\n",
        "\n",
        "# ## b\n",
        "regressor = MLPRegressor(hidden_layer_sizes = (15,) ,activation = 'tanh', solver = 'sgd', learning_rate = 'constant', random_state = 42,batch_size=40, learning_rate_init = 0.001)\n",
        "regressor.fit(X_train, y_train)\n",
        "\n",
        "yhat_train = regressor.predict(X_train)\n",
        "yhat_test = regressor.predict(X_test)\n",
        "RMSE_train =(np.sqrt((np.linalg.norm(y_train - yhat_train)**2)/yhat_train.shape[0]))\n",
        "RMSE_test =(np.sqrt((np.linalg.norm(y_test - yhat_test)**2)/yhat_test.shape[0]))  \n",
        "print (\"The root-mean-squared values for 15 hidden unit units is:  Train: {}   Test:  {} \".format(RMSE_train,RMSE_test))"
      ],
      "execution_count": 0,
      "outputs": [
        {
          "output_type": "stream",
          "text": [
            "The root-mean-squared values for Q2 is,  Train: 189.24920752376542   Test:  391.4480440014285 \n",
            "The root-mean-squared values for 2 hidden units is:  Train: 351.08773942336785   Test:  467.092086250588 \n",
            "The root-mean-squared values for 15 hidden unit units is:  Train: 303.4705137355625   Test:  414.93511473966237 \n"
          ],
          "name": "stdout"
        }
      ]
    },
    {
      "cell_type": "markdown",
      "metadata": {
        "id": "GlMOJrejsSs5",
        "colab_type": "text"
      },
      "source": [
        "## Q2.2\n",
        "\n",
        "The hidden layer size represents the number of neurons in the ith hidden layer. Apparently the higher the numebr of neurons the lower is the RMSE. It is noteworthy that the number of neurons should be something in between size of the input layer and the output layer.  \n",
        "\n",
        "In general having more layers results in a network with higher desire to recognize certain aspects of input data. Although, one layer can also detect the stats, it requires neurons as it cannot rely on other neurons to do portion of the total calculation required to detect that stat. Therefore, for one single layer the more neurons we have the higher is the possibility of resolving aspects of the input data and as a result the RMSE drops. so case (b) with higher neurons in hidden layer has a better performance. "
      ]
    },
    {
      "cell_type": "code",
      "metadata": {
        "id": "5xs561WpsSs5",
        "colab_type": "code",
        "outputId": "371f23b8-9fc1-408b-fef9-3f4d992e8997",
        "colab": {
          "base_uri": "https://localhost:8080/",
          "height": 669
        }
      },
      "source": [
        "##### Q2\n",
        "# ##### Q2.3\n",
        "# ## a\n",
        "regressor2 = MLPRegressor(hidden_layer_sizes = (2,) ,activation = 'tanh', solver = 'sgd', learning_rate = 'constant', random_state = 42,batch_size=40, learning_rate_init = 0.001)\n",
        "regressor2.fit(X_train, y_train)\n",
        "\n",
        "# ## b\n",
        "regressor3 = MLPRegressor(hidden_layer_sizes = (15,) ,activation = 'tanh', solver = 'sgd', learning_rate = 'constant', random_state = 42,batch_size=40, learning_rate_init = 0.001)\n",
        "regressor3.fit(X_train, y_train)\n",
        "figure(num=None, figsize=(8, 10), dpi=80, facecolor='w', edgecolor='k')\n",
        "plt.plot(np.sqrt(regressor2.loss_curve_),label=\"2-neurons hidden layer \")\n",
        "plt.plot(np.sqrt(regressor3.loss_curve_),label=\"15-neurons hidden layer \")\n",
        "plt.legend()\n",
        "plt.xlabel('Epoch #')\n",
        "plt.ylabel('Loss')\n",
        "plt.grid()\n",
        "plt.show()"
      ],
      "execution_count": 0,
      "outputs": [
        {
          "output_type": "display_data",
          "data": {
            "image/png": "[encoded data removed]",
            "text/plain": [
              "<Figure size 640x800 with 1 Axes>"
            ]
          },
          "metadata": {
            "tags": []
          }
        }
      ]
    },
    {
      "cell_type": "markdown",
      "metadata": {
        "id": "2rSy8xhMsSs8",
        "colab_type": "text"
      },
      "source": [
        "One more thing to use in this problem is [StandardScaler](http://scikit-learn.org/stable/modules/generated/sklearn.preprocessing.StandardScaler.html). Instead of fitting a model on original data, use StandardScaler to make each feature centered ([Example](http://scikit-learn.org/stable/auto_examples/applications/plot_prediction_latency.html#sphx-glr-auto-examples-applications-plot-prediction-latency-py)). Whenever you have training and test data, fit a scaler on training data and use this scaler on test data. Here, scale only features (independent variables), not target variable y."
      ]
    },
    {
      "cell_type": "markdown",
      "metadata": {
        "id": "Yk3s35r2sSs9",
        "colab_type": "text"
      },
      "source": [
        "1) Use [sklearn.neural_nework.MLPRegressor](http://scikit-learn.org/stable/modules/generated/sklearn.neural_network.MLPRegressor.html#sklearn.neural_network.MLPRegressor) to do a 5-fold cross validation using sklearn's [KFold](http://scikit-learn.org/stable/modules/generated/sklearn.model_selection.KFold.html#sklearn.model_selection.KFold). The cross validation must be performed on the **training data**. Use following parameter settings for MLPRegressor:\n",
        "\n",
        "    activation = 'tanh', solver = 'sgd', learning_rate='constant', random_state=42,\n",
        "    batch_size=40, learning_rate_init = 0.001\n",
        "    \n",
        "Now, consider two different settings for the number of hidden units:\n",
        "    \n",
        "   (a) *hidden_layer_sizes = (2,)* (b) *hidden_layer_sizes = (15,)*\n",
        "    \n",
        "   Report the average Root Mean Squared Error (RMSE) value based on your 5-fold cross validation for each model: (a) and (b) (5pts)\n",
        "   \n",
        "   \n",
        "2) Now, using the same parameters used in part 1), train MLPRegressor models on whole training data and report RMSE score for both Train and Test set (Again, use StandardScaler). Which model works better, (a) or (b)? Briefly analyze the result in terms of the number of hidden units. (3pts)\n",
        "\n",
        "\n",
        "3) MLPRegressor has a built-in attribute *loss\\_curve\\_* which returns the loss at each epoch (misleadingly referred to as \"iteration\" in scikit documentation, though they use epoch in the actual code!). For example, if your model is named as *my_model* you can call it as *my\\_model.loss\\_curve\\_* ([example](http://scikit-learn.org/stable/auto_examples/neural_networks/plot_mlp_training_curves.html#sphx-glr-auto-examples-neural-networks-plot-mlp-training-curves-py)). Plot two curves for model (a) and (b) in one figure, where *X-axis* is epoch  number and *Y-axis* is squared root of *loss\\_curve\\_* value. (2pts)"
      ]
    },
    {
      "cell_type": "markdown",
      "metadata": {
        "id": "H-bjHpgEsSs9",
        "colab_type": "text"
      },
      "source": [
        "# Question 3 (10 points)"
      ]
    },
    {
      "cell_type": "markdown",
      "metadata": {
        "id": "fVV3K9dCsSs-",
        "colab_type": "text"
      },
      "source": [
        "Implement a CNN for character recognition on MINST using **pytorch**. You can form the CNN architecture with 'n' layers followed by a fully connected layer. However, Report the performance of the model on three conditions:\n",
        "1. Dropout - with and without dropout\n",
        "2. CNN kernel filter change - two filter sizes of your choice\n",
        "3. Learning rate change or optimizer change - two learning rates or two different optimizers. \n",
        "\n",
        "Please tabulate your result. Ensure that in all of the above cases the accuracy is >= 95%."
      ]
    },
    {
      "cell_type": "markdown",
      "metadata": {
        "id": "HldKie2EwgTT",
        "colab_type": "text"
      },
      "source": [
        "# CNN models \n"
      ]
    },
    {
      "cell_type": "code",
      "metadata": {
        "id": "2bvTAZ0AgSMF",
        "colab_type": "code",
        "outputId": "48c0b7a7-0a24-4279-f705-e41d1ae234a8",
        "colab": {
          "base_uri": "https://localhost:8080/",
          "height": 102
        }
      },
      "source": [
        "!pip install torch torchvision"
      ],
      "execution_count": 0,
      "outputs": [
        {
          "output_type": "stream",
          "text": [
            "Requirement already satisfied: torch in /usr/local/lib/python3.6/dist-packages (1.4.0)\n",
            "Requirement already satisfied: torchvision in /usr/local/lib/python3.6/dist-packages (0.5.0)\n",
            "Requirement already satisfied: six in /usr/local/lib/python3.6/dist-packages (from torchvision) (1.12.0)\n",
            "Requirement already satisfied: numpy in /usr/local/lib/python3.6/dist-packages (from torchvision) (1.18.2)\n",
            "Requirement already satisfied: pillow>=4.1.1 in /usr/local/lib/python3.6/dist-packages (from torchvision) (7.0.0)\n"
          ],
          "name": "stdout"
        }
      ]
    },
    {
      "cell_type": "code",
      "metadata": {
        "id": "dPgRsRRUwjBv",
        "colab_type": "code",
        "colab": {}
      },
      "source": [
        "import torch, torchvision\n",
        "from torch import nn,optim\n",
        "from torch.autograd import Variable as var \n",
        "Batch_size = 64\n",
        "alpha = 0.01\n",
        "Epoches = 15\n",
        "skp_print = 250"
      ],
      "execution_count": 0,
      "outputs": []
    },
    {
      "cell_type": "code",
      "metadata": {
        "id": "CsNEsB2pwn0K",
        "colab_type": "code",
        "outputId": "1dbcdd56-0093-4a41-8f29-ee77ba72364f",
        "colab": {
          "base_uri": "https://localhost:8080/",
          "height": 332,
          "referenced_widgets": [
            "802718e7826a4ca58b132764fd61ff0c",
            "93216f574dcb4d95bfc767000503ad5a",
            "cf3ff30e08b6406da9778fb71ed987d2",
            "7df89205a8b8415a9549d73e700c1a3d",
            "15b7f82f654e40fb8ac7c2f59ed94997",
            "e5cf5b091f5646a28958b16bba161f02",
            "f088c32610b34f8e9c315e23ffb5624b",
            "3c31bf4e888945baaedf9f6096267e03",
            "0aa7ef6cf7ef4e71a6df55af24cbcaad",
            "3596e2b60ff1448c96b3e342c2b2127e",
            "04955fec447e49d8ae9f749fc496a0a2",
            "70ac806d5fc942c08ef7eb88f6c132f2",
            "56c2bc24517f414eb77ef98c3dab15c8",
            "6d5878b91e7b487bb81dac2b8588fe29",
            "e6e839ca28b24019997c9e3cf4a7ae61",
            "de86c8d3473d4a6abe80d3a97df21540",
            "036491e66a5e4f3780d1a641a1e90dbd",
            "b3db06d81641435d9de7251ce95b687d",
            "7ee51e048c224bc08ab2699b5e1951fd",
            "3f2525795f324db5b9815afa12286d79",
            "4dad714cff8f441ab32f786a49f12bb4",
            "be9643bdbbe2447bab709b98d274f05d",
            "58ad2c4f3123400d8320354f81b25cd1",
            "01bc7f8dee254ea993a89d16d3a74697",
            "a0c5f144fbc740c09a92738202e8b0f4",
            "2f9514fed7e94da0bfa6b0add477ab55",
            "c4ce03c27a824097b295ddf25c794036",
            "afb9d31b054e4f1496cb812af47d5245",
            "921c722c3858433aacbf851d9b240e00",
            "b9411852b0f94985894a71713a60324a",
            "7b371eeba0dc4f96a65c3ae653e88169",
            "398243cb07014a6695934b3f7a812e71"
          ]
        }
      },
      "source": [
        "##Loading Data \n",
        "\n",
        "T = torchvision.transforms.ToTensor()\n",
        "train_data = torchvision.datasets.MNIST('mnist_data',train=True,download=True,transform=T)\n",
        "val_data = torchvision.datasets.MNIST('mnist_data',train=False,download=True,transform=T)\n",
        "\n",
        "train_dl = torch.utils.data.DataLoader(train_data,batch_size = Batch_size)\n",
        "val_dl = torch.utils.data.DataLoader(val_data,batch_size = Batch_size)"
      ],
      "execution_count": 0,
      "outputs": [
        {
          "output_type": "stream",
          "text": [
            "Downloading http://yann.lecun.com/exdb/mnist/train-images-idx3-ubyte.gz to mnist_data/MNIST/raw/train-images-idx3-ubyte.gz\n"
          ],
          "name": "stdout"
        },
        {
          "output_type": "display_data",
          "data": {
            "application/vnd.jupyter.widget-view+json": {
              "model_id": "802718e7826a4ca58b132764fd61ff0c",
              "version_minor": 0,
              "version_major": 2
            },
            "text/plain": [
              "HBox(children=(IntProgress(value=1, bar_style='info', max=1), HTML(value='')))"
            ]
          },
          "metadata": {
            "tags": []
          }
        },
        {
          "output_type": "stream",
          "text": [
            "Extracting mnist_data/MNIST/raw/train-images-idx3-ubyte.gz to mnist_data/MNIST/raw\n",
            "Downloading http://yann.lecun.com/exdb/mnist/train-labels-idx1-ubyte.gz to mnist_data/MNIST/raw/train-labels-idx1-ubyte.gz\n"
          ],
          "name": "stdout"
        },
        {
          "output_type": "display_data",
          "data": {
            "application/vnd.jupyter.widget-view+json": {
              "model_id": "0aa7ef6cf7ef4e71a6df55af24cbcaad",
              "version_minor": 0,
              "version_major": 2
            },
            "text/plain": [
              "HBox(children=(IntProgress(value=1, bar_style='info', max=1), HTML(value='')))"
            ]
          },
          "metadata": {
            "tags": []
          }
        },
        {
          "output_type": "stream",
          "text": [
            "Extracting mnist_data/MNIST/raw/train-labels-idx1-ubyte.gz to mnist_data/MNIST/raw\n",
            "Downloading http://yann.lecun.com/exdb/mnist/t10k-images-idx3-ubyte.gz to mnist_data/MNIST/raw/t10k-images-idx3-ubyte.gz\n",
            "\n"
          ],
          "name": "stdout"
        },
        {
          "output_type": "display_data",
          "data": {
            "application/vnd.jupyter.widget-view+json": {
              "model_id": "036491e66a5e4f3780d1a641a1e90dbd",
              "version_minor": 0,
              "version_major": 2
            },
            "text/plain": [
              "HBox(children=(IntProgress(value=1, bar_style='info', max=1), HTML(value='')))"
            ]
          },
          "metadata": {
            "tags": []
          }
        },
        {
          "output_type": "stream",
          "text": [
            "Extracting mnist_data/MNIST/raw/t10k-images-idx3-ubyte.gz to mnist_data/MNIST/raw\n",
            "Downloading http://yann.lecun.com/exdb/mnist/t10k-labels-idx1-ubyte.gz to mnist_data/MNIST/raw/t10k-labels-idx1-ubyte.gz\n"
          ],
          "name": "stdout"
        },
        {
          "output_type": "display_data",
          "data": {
            "application/vnd.jupyter.widget-view+json": {
              "model_id": "a0c5f144fbc740c09a92738202e8b0f4",
              "version_minor": 0,
              "version_major": 2
            },
            "text/plain": [
              "HBox(children=(IntProgress(value=1, bar_style='info', max=1), HTML(value='')))"
            ]
          },
          "metadata": {
            "tags": []
          }
        },
        {
          "output_type": "stream",
          "text": [
            "Extracting mnist_data/MNIST/raw/t10k-labels-idx1-ubyte.gz to mnist_data/MNIST/raw\n",
            "Processing...\n",
            "Done!\n"
          ],
          "name": "stdout"
        }
      ]
    },
    {
      "cell_type": "markdown",
      "metadata": {
        "id": "ObpUVoUHjrgx",
        "colab_type": "text"
      },
      "source": [
        "## without droput "
      ]
    },
    {
      "cell_type": "code",
      "metadata": {
        "id": "Zi7awXY3FXIH",
        "colab_type": "code",
        "colab": {}
      },
      "source": [
        "###CNN\n",
        "class CNNmnist1(nn.Module):\n",
        "  def __init__(self):\n",
        "    super(CNNmnist1,self).__init__()\n",
        "    self.cnn1 = nn.Conv2d(1,3,3)\n",
        "    self.cnn2 = nn.Conv2d(3,2,5)\n",
        "    self.max_pool2d = nn.MaxPool2d(kernel_size=2, stride=2)\n",
        "    # self.drop1= nn.Dropout()\n",
        "    self.linear = nn.Linear(968,10)\n",
        "    self.relu = nn.ReLU()\n",
        "  \n",
        "  def forward(self,x):\n",
        "    n = x.size(0)\n",
        "    x = self.relu(self.cnn1(x))\n",
        "    x = self.relu(self.cnn2(x))\n",
        "    x = x.view(n,-1)\n",
        "    x = self.linear(x)\n",
        "    return x"
      ],
      "execution_count": 0,
      "outputs": []
    },
    {
      "cell_type": "code",
      "metadata": {
        "id": "QeCJPYVVSLAT",
        "colab_type": "code",
        "outputId": "946389a1-65e6-4ad1-ccf0-d82131bfc5db",
        "colab": {
          "base_uri": "https://localhost:8080/",
          "height": 782
        }
      },
      "source": [
        "##Training  1\n",
        "\n",
        "CNNmnist1 = CNNmnist1().cuda()\n",
        "cec = nn.CrossEntropyLoss()\n",
        "optimizer = optim.Adam(CNNmnist1.parameters(),lr = alpha)\n",
        "\n",
        "def validate(model,data):\n",
        "  # accuracy = (correct/total)*100.\n",
        "  total = 0\n",
        "  correct = 0\n",
        "  for i,(images,labels) in enumerate(data):\n",
        "    images = var(images.cuda())\n",
        "    x = model(images)\n",
        "    value,pred = torch.max(x,1)\n",
        "    pred = pred.data.cpu()\n",
        "    total += x.size(0)\n",
        "    correct += torch.sum(pred == labels)\n",
        "  return correct*100./total\n",
        "\n",
        "for e_c in range(Epoches):\n",
        "  for i,(images,labels) in enumerate(train_dl):\n",
        "    images = var(images.cuda())\n",
        "    labels = var(labels.cuda())\n",
        "    optimizer.zero_grad()\n",
        "    pred = CNNmnist1(images)\n",
        "    loss = cec(pred,labels)\n",
        "    loss.backward()\n",
        "    optimizer.step()\n",
        "    if (i+1) % skp_print == 0:\n",
        "      accuracy = float(validate(CNNmnist1,val_dl))\n",
        "      print('Epoch #{}, Batch #{}, with Loss of {}, and Accuracy of {}%'.format(e_c+1,i+1,round(float(loss.data),4),round(accuracy,4)))"
      ],
      "execution_count": 0,
      "outputs": [
        {
          "output_type": "stream",
          "text": [
            "Epoch #1, Batch #250, with Loss of 0.5526, and Accuracy of 95.24%\n",
            "Epoch #1, Batch #500, with Loss of 0.2047, and Accuracy of 95.95%\n",
            "Epoch #1, Batch #750, with Loss of 0.1005, and Accuracy of 96.01%\n",
            "Epoch #2, Batch #250, with Loss of 0.4046, and Accuracy of 97.07%\n",
            "Epoch #2, Batch #500, with Loss of 0.0936, and Accuracy of 96.61%\n",
            "Epoch #2, Batch #750, with Loss of 0.0639, and Accuracy of 96.36%\n",
            "Epoch #3, Batch #250, with Loss of 0.3048, and Accuracy of 97.16%\n",
            "Epoch #3, Batch #500, with Loss of 0.0335, and Accuracy of 96.73%\n",
            "Epoch #3, Batch #750, with Loss of 0.0521, and Accuracy of 96.4%\n",
            "Epoch #4, Batch #250, with Loss of 0.2224, and Accuracy of 97.28%\n",
            "Epoch #4, Batch #500, with Loss of 0.0322, and Accuracy of 96.95%\n",
            "Epoch #4, Batch #750, with Loss of 0.037, and Accuracy of 96.38%\n",
            "Epoch #5, Batch #250, with Loss of 0.2275, and Accuracy of 97.28%\n",
            "Epoch #5, Batch #500, with Loss of 0.0328, and Accuracy of 96.66%\n",
            "Epoch #5, Batch #750, with Loss of 0.0271, and Accuracy of 95.98%\n",
            "Epoch #6, Batch #250, with Loss of 0.2309, and Accuracy of 97.32%\n",
            "Epoch #6, Batch #500, with Loss of 0.0561, and Accuracy of 96.21%\n",
            "Epoch #6, Batch #750, with Loss of 0.0341, and Accuracy of 95.87%\n",
            "Epoch #7, Batch #250, with Loss of 0.2455, and Accuracy of 97.07%\n",
            "Epoch #7, Batch #500, with Loss of 0.0882, and Accuracy of 95.51%\n",
            "Epoch #7, Batch #750, with Loss of 0.0276, and Accuracy of 96.01%\n",
            "Epoch #8, Batch #250, with Loss of 0.2616, and Accuracy of 97.05%\n",
            "Epoch #8, Batch #500, with Loss of 0.0456, and Accuracy of 95.7%\n",
            "Epoch #8, Batch #750, with Loss of 0.0206, and Accuracy of 95.98%\n",
            "Epoch #9, Batch #250, with Loss of 0.1706, and Accuracy of 97.01%\n",
            "Epoch #9, Batch #500, with Loss of 0.0769, and Accuracy of 94.24%\n",
            "Epoch #9, Batch #750, with Loss of 0.0612, and Accuracy of 96.15%\n",
            "Epoch #10, Batch #250, with Loss of 0.1874, and Accuracy of 96.96%\n",
            "Epoch #10, Batch #500, with Loss of 0.0148, and Accuracy of 96.29%\n",
            "Epoch #10, Batch #750, with Loss of 0.0455, and Accuracy of 96.0%\n",
            "Epoch #11, Batch #250, with Loss of 0.1805, and Accuracy of 96.72%\n",
            "Epoch #11, Batch #500, with Loss of 0.0059, and Accuracy of 96.54%\n",
            "Epoch #11, Batch #750, with Loss of 0.0681, and Accuracy of 96.21%\n",
            "Epoch #12, Batch #250, with Loss of 0.1129, and Accuracy of 97.05%\n",
            "Epoch #12, Batch #500, with Loss of 0.0127, and Accuracy of 96.62%\n",
            "Epoch #12, Batch #750, with Loss of 0.0817, and Accuracy of 96.14%\n",
            "Epoch #13, Batch #250, with Loss of 0.145, and Accuracy of 96.82%\n",
            "Epoch #13, Batch #500, with Loss of 0.0124, and Accuracy of 96.39%\n",
            "Epoch #13, Batch #750, with Loss of 0.084, and Accuracy of 96.45%\n",
            "Epoch #14, Batch #250, with Loss of 0.11, and Accuracy of 96.79%\n",
            "Epoch #14, Batch #500, with Loss of 0.0076, and Accuracy of 96.25%\n",
            "Epoch #14, Batch #750, with Loss of 0.0588, and Accuracy of 96.49%\n",
            "Epoch #15, Batch #250, with Loss of 0.0886, and Accuracy of 96.77%\n",
            "Epoch #15, Batch #500, with Loss of 0.0664, and Accuracy of 96.67%\n",
            "Epoch #15, Batch #750, with Loss of 0.0795, and Accuracy of 96.42%\n"
          ],
          "name": "stdout"
        }
      ]
    },
    {
      "cell_type": "markdown",
      "metadata": {
        "id": "MzEEqTEdj81b",
        "colab_type": "text"
      },
      "source": [
        "## with droput "
      ]
    },
    {
      "cell_type": "code",
      "metadata": {
        "id": "YASH0TZsjqEZ",
        "colab_type": "code",
        "colab": {}
      },
      "source": [
        "###CNN\n",
        "class CNNmnist2(nn.Module):\n",
        "  def __init__(self):\n",
        "    super(CNNmnist2,self).__init__()\n",
        "    self.cnn1 = nn.Conv2d(1,3,3)\n",
        "    self.cnn2 = nn.Conv2d(3,2,5)\n",
        "    # self.max_pool2d = nn.MaxPool2d(kernel_size=2, stride=1)\n",
        "    self.drop1= nn.Dropout()\n",
        "    self.linear = nn.Linear(968,10)\n",
        "    self.relu = nn.ReLU()\n",
        "  \n",
        "  def forward(self,x):\n",
        "    n = x.size(0)\n",
        "    x = self.relu(self.cnn1(x))\n",
        "    x = self.relu(self.cnn2(x))\n",
        "    x = x.view(n,-1)\n",
        "    x = self.linear(x)\n",
        "    return x"
      ],
      "execution_count": 0,
      "outputs": []
    },
    {
      "cell_type": "code",
      "metadata": {
        "id": "9Rd6vDTslFZE",
        "colab_type": "code",
        "outputId": "b563efaf-c540-4842-d440-9f7edf6e3aec",
        "colab": {
          "base_uri": "https://localhost:8080/",
          "height": 782
        }
      },
      "source": [
        "##Training  2\n",
        "Epoches = 15\n",
        "CNNmnist2= CNNmnist2().cuda()\n",
        "cec = nn.CrossEntropyLoss()\n",
        "optimizer = optim.Adam(CNNmnist2.parameters(),lr = alpha)\n",
        "\n",
        "def validate(model,data):\n",
        "  # accuracy = (correct/total)*100.\n",
        "  total = 0\n",
        "  correct = 0\n",
        "  for i,(images,labels) in enumerate(data):\n",
        "    images = var(images.cuda())\n",
        "    x = model(images)\n",
        "    value,pred = torch.max(x,1)\n",
        "    pred = pred.data.cpu()\n",
        "    total += x.size(0)\n",
        "    correct += torch.sum(pred == labels)\n",
        "  return correct*100./total\n",
        "\n",
        "for e_c in range(Epoches):\n",
        "  for i,(images,labels) in enumerate(train_dl):\n",
        "    images = var(images.cuda())\n",
        "    labels = var(labels.cuda())\n",
        "    optimizer.zero_grad()\n",
        "    pred = CNNmnist2(images)\n",
        "    loss = cec(pred,labels)\n",
        "    loss.backward()\n",
        "    optimizer.step()\n",
        "    if (i+1) % skp_print == 0:\n",
        "      accuracy = float(validate(CNNmnist2,val_dl))\n",
        "      print('Epoch #: {}, Batch #: {}, with Loss: {}, and Accuracy of: {}%'.format(e_c+1,i+1,round(float(loss.data),4),round(accuracy,4)))"
      ],
      "execution_count": 0,
      "outputs": [
        {
          "output_type": "stream",
          "text": [
            "Epoch #: 1, Batch #: 250, with Loss: 0.4281, and Accuracy of: 93.49%\n",
            "Epoch #: 1, Batch #: 500, with Loss: 0.2296, and Accuracy of: 94.6%\n",
            "Epoch #: 1, Batch #: 750, with Loss: 0.2399, and Accuracy of: 95.82%\n",
            "Epoch #: 2, Batch #: 250, with Loss: 0.2365, and Accuracy of: 96.11%\n",
            "Epoch #: 2, Batch #: 500, with Loss: 0.2025, and Accuracy of: 96.62%\n",
            "Epoch #: 2, Batch #: 750, with Loss: 0.2703, and Accuracy of: 96.38%\n",
            "Epoch #: 3, Batch #: 250, with Loss: 0.1915, and Accuracy of: 96.67%\n",
            "Epoch #: 3, Batch #: 500, with Loss: 0.1733, and Accuracy of: 96.89%\n",
            "Epoch #: 3, Batch #: 750, with Loss: 0.1451, and Accuracy of: 96.46%\n",
            "Epoch #: 4, Batch #: 250, with Loss: 0.1943, and Accuracy of: 95.73%\n",
            "Epoch #: 4, Batch #: 500, with Loss: 0.1933, and Accuracy of: 96.97%\n",
            "Epoch #: 4, Batch #: 750, with Loss: 0.1381, and Accuracy of: 96.56%\n",
            "Epoch #: 5, Batch #: 250, with Loss: 0.2059, and Accuracy of: 96.68%\n",
            "Epoch #: 5, Batch #: 500, with Loss: 0.2138, and Accuracy of: 96.48%\n",
            "Epoch #: 5, Batch #: 750, with Loss: 0.1018, and Accuracy of: 96.33%\n",
            "Epoch #: 6, Batch #: 250, with Loss: 0.171, and Accuracy of: 97.02%\n",
            "Epoch #: 6, Batch #: 500, with Loss: 0.1567, and Accuracy of: 96.34%\n",
            "Epoch #: 6, Batch #: 750, with Loss: 0.0781, and Accuracy of: 96.54%\n",
            "Epoch #: 7, Batch #: 250, with Loss: 0.1681, and Accuracy of: 96.76%\n",
            "Epoch #: 7, Batch #: 500, with Loss: 0.1267, and Accuracy of: 96.38%\n",
            "Epoch #: 7, Batch #: 750, with Loss: 0.0863, and Accuracy of: 96.12%\n",
            "Epoch #: 8, Batch #: 250, with Loss: 0.1482, and Accuracy of: 96.07%\n",
            "Epoch #: 8, Batch #: 500, with Loss: 0.1829, and Accuracy of: 95.9%\n",
            "Epoch #: 8, Batch #: 750, with Loss: 0.0465, and Accuracy of: 96.15%\n",
            "Epoch #: 9, Batch #: 250, with Loss: 0.1518, and Accuracy of: 96.44%\n",
            "Epoch #: 9, Batch #: 500, with Loss: 0.1512, and Accuracy of: 95.13%\n",
            "Epoch #: 9, Batch #: 750, with Loss: 0.0579, and Accuracy of: 96.08%\n",
            "Epoch #: 10, Batch #: 250, with Loss: 0.1576, and Accuracy of: 96.23%\n",
            "Epoch #: 10, Batch #: 500, with Loss: 0.1593, and Accuracy of: 95.62%\n",
            "Epoch #: 10, Batch #: 750, with Loss: 0.1236, and Accuracy of: 95.49%\n",
            "Epoch #: 11, Batch #: 250, with Loss: 0.1975, and Accuracy of: 96.38%\n",
            "Epoch #: 11, Batch #: 500, with Loss: 0.154, and Accuracy of: 95.77%\n",
            "Epoch #: 11, Batch #: 750, with Loss: 0.1213, and Accuracy of: 96.24%\n",
            "Epoch #: 12, Batch #: 250, with Loss: 0.1896, and Accuracy of: 96.49%\n",
            "Epoch #: 12, Batch #: 500, with Loss: 0.1396, and Accuracy of: 95.46%\n",
            "Epoch #: 12, Batch #: 750, with Loss: 0.1497, and Accuracy of: 95.55%\n",
            "Epoch #: 13, Batch #: 250, with Loss: 0.1353, and Accuracy of: 96.64%\n",
            "Epoch #: 13, Batch #: 500, with Loss: 0.1935, and Accuracy of: 95.98%\n",
            "Epoch #: 13, Batch #: 750, with Loss: 0.1305, and Accuracy of: 95.26%\n",
            "Epoch #: 14, Batch #: 250, with Loss: 0.3022, and Accuracy of: 95.92%\n",
            "Epoch #: 14, Batch #: 500, with Loss: 0.124, and Accuracy of: 94.89%\n",
            "Epoch #: 14, Batch #: 750, with Loss: 0.0589, and Accuracy of: 95.63%\n",
            "Epoch #: 15, Batch #: 250, with Loss: 0.1664, and Accuracy of: 96.1%\n",
            "Epoch #: 15, Batch #: 500, with Loss: 0.1771, and Accuracy of: 95.65%\n",
            "Epoch #: 15, Batch #: 750, with Loss: 0.0283, and Accuracy of: 95.26%\n"
          ],
          "name": "stdout"
        }
      ]
    },
    {
      "cell_type": "markdown",
      "metadata": {
        "id": "gzY67o_RmQtG",
        "colab_type": "text"
      },
      "source": [
        "### Note 1\n",
        "So far, as a result, suggest, adding dropout helps in improving the performance of the classification of digits. The main reason is that by adding dropout, the network is less optimized for training data, so it reduces the overfitting. As a consequence, the test set accuracy gets better since now the model is slightly more generalizable. Hence, for the rest of the model tryouts I am going to keep the droput. \n",
        "\n",
        "In the last model the filter size of the first layer I had 3 layers with kernel size of 3 and for the second layer I had two filters with kernel size of 5. For the next model I change them to 5 filerts with kernel size of 5 and 3 fileters with kernel size of 7, respectively. "
      ]
    },
    {
      "cell_type": "code",
      "metadata": {
        "id": "0gKE-rTnoNXP",
        "colab_type": "code",
        "colab": {}
      },
      "source": [
        "###CNN\n",
        "class CNNmnist3(nn.Module):\n",
        "  def __init__(self):\n",
        "    super(CNNmnist3,self).__init__()\n",
        "    self.cnn1 = nn.Conv2d(1,5,5)\n",
        "    self.cnn2 = nn.Conv2d(5,3,7)\n",
        "    self.drop1= nn.Dropout()\n",
        "    self.linear = nn.Linear(972,10)\n",
        "    self.relu = nn.ReLU()\n",
        "  \n",
        "  def forward(self,x):\n",
        "    n = x.size(0)\n",
        "    x = self.relu(self.cnn1(x))\n",
        "    x = self.relu(self.cnn2(x))\n",
        "    x = x.view(n,-1)\n",
        "    x = self.linear(x)\n",
        "    return x"
      ],
      "execution_count": 0,
      "outputs": []
    },
    {
      "cell_type": "code",
      "metadata": {
        "id": "9Q71_cpSoXvO",
        "colab_type": "code",
        "outputId": "983cbe8b-d6c9-4938-d17c-07eeb844de25",
        "colab": {
          "base_uri": "https://localhost:8080/",
          "height": 527
        }
      },
      "source": [
        "##Training  3\n",
        "\n",
        "CNNmnist3= CNNmnist3().cuda()\n",
        "cec = nn.CrossEntropyLoss()\n",
        "optimizer = optim.Adam(CNNmnist3.parameters(),lr = alpha)\n",
        "\n",
        "def validate(model,data):\n",
        "  # accuracy = (correct/total)*100.\n",
        "  total = 0\n",
        "  correct = 0\n",
        "  for i,(images,labels) in enumerate(data):\n",
        "    images = var(images.cuda())\n",
        "    x = model(images)\n",
        "    value,pred = torch.max(x,1)\n",
        "    pred = pred.data.cpu()\n",
        "    total += x.size(0)\n",
        "    correct += torch.sum(pred == labels)\n",
        "  return correct*100./total\n",
        "\n",
        "for e_c in range(Epoches):\n",
        "  for i,(images,labels) in enumerate(train_dl):\n",
        "    images = var(images.cuda())\n",
        "    labels = var(labels.cuda())\n",
        "    optimizer.zero_grad()\n",
        "    pred = CNNmnist3(images)\n",
        "    loss = cec(pred,labels)\n",
        "    loss.backward()\n",
        "    optimizer.step()\n",
        "    if (i+1) % skp_print == 0:\n",
        "      accuracy = float(validate(CNNmnist3,val_dl))\n",
        "      print('Epoch #: {}, Batch #: {}, with Loss: {}, and Accuracy of: {}%'.format(e_c+1,i+1,round(float(loss.data),4),round(accuracy,4)))"
      ],
      "execution_count": 0,
      "outputs": [
        {
          "output_type": "stream",
          "text": [
            "Epoch #: 1, Batch #: 250, with Loss: 0.3588, and Accuracy of: 95.14%\n",
            "Epoch #: 1, Batch #: 500, with Loss: 0.2204, and Accuracy of: 95.58%\n",
            "Epoch #: 1, Batch #: 750, with Loss: 0.0706, and Accuracy of: 95.96%\n",
            "Epoch #: 2, Batch #: 250, with Loss: 0.3231, and Accuracy of: 97.23%\n",
            "Epoch #: 2, Batch #: 500, with Loss: 0.0901, and Accuracy of: 97.05%\n",
            "Epoch #: 2, Batch #: 750, with Loss: 0.1004, and Accuracy of: 96.07%\n",
            "Epoch #: 3, Batch #: 250, with Loss: 0.2764, and Accuracy of: 97.62%\n",
            "Epoch #: 3, Batch #: 500, with Loss: 0.0383, and Accuracy of: 96.84%\n",
            "Epoch #: 3, Batch #: 750, with Loss: 0.0279, and Accuracy of: 96.15%\n",
            "Epoch #: 4, Batch #: 250, with Loss: 0.2271, and Accuracy of: 97.42%\n",
            "Epoch #: 4, Batch #: 500, with Loss: 0.0904, and Accuracy of: 96.52%\n",
            "Epoch #: 4, Batch #: 750, with Loss: 0.0408, and Accuracy of: 96.1%\n",
            "Epoch #: 5, Batch #: 250, with Loss: 0.2304, and Accuracy of: 97.01%\n",
            "Epoch #: 5, Batch #: 500, with Loss: 0.094, and Accuracy of: 96.85%\n",
            "Epoch #: 5, Batch #: 750, with Loss: 0.1419, and Accuracy of: 96.07%\n",
            "Epoch #: 6, Batch #: 250, with Loss: 0.0985, and Accuracy of: 96.62%\n",
            "Epoch #: 6, Batch #: 500, with Loss: 0.0549, and Accuracy of: 96.98%\n",
            "Epoch #: 6, Batch #: 750, with Loss: 0.0565, and Accuracy of: 96.28%\n",
            "Epoch #: 7, Batch #: 250, with Loss: 0.1645, and Accuracy of: 97.19%\n",
            "Epoch #: 7, Batch #: 500, with Loss: 0.0073, and Accuracy of: 97.2%\n",
            "Epoch #: 7, Batch #: 750, with Loss: 0.0423, and Accuracy of: 96.49%\n",
            "Epoch #: 8, Batch #: 250, with Loss: 0.1725, and Accuracy of: 96.96%\n",
            "Epoch #: 8, Batch #: 500, with Loss: 0.0738, and Accuracy of: 97.27%\n",
            "Epoch #: 8, Batch #: 750, with Loss: 0.0034, and Accuracy of: 96.64%\n",
            "Epoch #: 9, Batch #: 250, with Loss: 0.2398, and Accuracy of: 97.16%\n",
            "Epoch #: 9, Batch #: 500, with Loss: 0.0261, and Accuracy of: 96.47%\n",
            "Epoch #: 9, Batch #: 750, with Loss: 0.0066, and Accuracy of: 96.57%\n",
            "Epoch #: 10, Batch #: 250, with Loss: 0.1756, and Accuracy of: 96.52%\n",
            "Epoch #: 10, Batch #: 500, with Loss: 0.0291, and Accuracy of: 96.86%\n",
            "Epoch #: 10, Batch #: 750, with Loss: 0.0025, and Accuracy of: 96.87%\n"
          ],
          "name": "stdout"
        }
      ]
    },
    {
      "cell_type": "code",
      "metadata": {
        "id": "igNg80yq4S7A",
        "colab_type": "code",
        "colab": {}
      },
      "source": [
        ""
      ],
      "execution_count": 0,
      "outputs": []
    },
    {
      "cell_type": "markdown",
      "metadata": {
        "id": "fONzO5sG4Olm",
        "colab_type": "text"
      },
      "source": [
        "Change of the filter size does not seem to change the performance considerably. "
      ]
    },
    {
      "cell_type": "code",
      "metadata": {
        "id": "Gn7MU75OxPHg",
        "colab_type": "code",
        "colab": {}
      },
      "source": [
        "###CNN\n",
        "class CNNmnist3(nn.Module):\n",
        "  def __init__(self):\n",
        "    super(CNNmnist3,self).__init__()\n",
        "    self.cnn1 = nn.Conv2d(1,5,5)\n",
        "    self.cnn2 = nn.Conv2d(5,3,7)\n",
        "    self.drop1= nn.Dropout()\n",
        "    self.linear = nn.Linear(972,10)\n",
        "    self.relu = nn.ReLU()\n",
        "  \n",
        "  def forward(self,x):\n",
        "    n = x.size(0)\n",
        "    x = self.relu(self.cnn1(x))\n",
        "    x = self.relu(self.cnn2(x))\n",
        "    x = x.view(n,-1)\n",
        "    x = self.linear(x)\n",
        "    return x"
      ],
      "execution_count": 0,
      "outputs": []
    },
    {
      "cell_type": "code",
      "metadata": {
        "id": "csroxPoIw7CC",
        "colab_type": "code",
        "outputId": "15a50a09-3ac8-4dc0-8b33-d9e6e41d755c",
        "colab": {
          "base_uri": "https://localhost:8080/",
          "height": 527
        }
      },
      "source": [
        "##Training  4\n",
        "\n",
        "CNNmnist3= CNNmnist3().cuda()\n",
        "cec = nn.CrossEntropyLoss()\n",
        "optimizer = optim.SGD(CNNmnist3.parameters(),lr = alpha)\n",
        "\n",
        "def validate(model,data):\n",
        "  # accuracy = (correct/total)*100.\n",
        "  total = 0\n",
        "  correct = 0\n",
        "  for i,(images,labels) in enumerate(data):\n",
        "    images = var(images.cuda())\n",
        "    x = model(images)\n",
        "    value,pred = torch.max(x,1)\n",
        "    pred = pred.data.cpu()\n",
        "    total += x.size(0)\n",
        "    correct += torch.sum(pred == labels)\n",
        "  return correct*100./total\n",
        "\n",
        "for e_c in range(Epoches):\n",
        "  for i,(images,labels) in enumerate(train_dl):\n",
        "    images = var(images.cuda())\n",
        "    labels = var(labels.cuda())\n",
        "    optimizer.zero_grad()\n",
        "    pred = CNNmnist3(images)\n",
        "    loss = cec(pred,labels)\n",
        "    loss.backward()\n",
        "    optimizer.step()\n",
        "    if (i+1) % skp_print == 0:\n",
        "      accuracy = float(validate(CNNmnist3,val_dl))\n",
        "      print('Epoch #: {}, Batch #: {}, with Loss: {}, and Accuracy of: {}%'.format(e_c+1,i+1,round(float(loss.data),4),round(accuracy,4)))"
      ],
      "execution_count": 0,
      "outputs": [
        {
          "output_type": "stream",
          "text": [
            "Epoch #: 1, Batch #: 250, with Loss: 0.8083, and Accuracy of: 85.03%\n",
            "Epoch #: 1, Batch #: 500, with Loss: 0.3579, and Accuracy of: 89.39%\n",
            "Epoch #: 1, Batch #: 750, with Loss: 0.3229, and Accuracy of: 91.12%\n",
            "Epoch #: 2, Batch #: 250, with Loss: 0.4538, and Accuracy of: 93.9%\n",
            "Epoch #: 2, Batch #: 500, with Loss: 0.2642, and Accuracy of: 94.27%\n",
            "Epoch #: 2, Batch #: 750, with Loss: 0.2022, and Accuracy of: 95.21%\n",
            "Epoch #: 3, Batch #: 250, with Loss: 0.3152, and Accuracy of: 95.53%\n",
            "Epoch #: 3, Batch #: 500, with Loss: 0.2152, and Accuracy of: 95.84%\n",
            "Epoch #: 3, Batch #: 750, with Loss: 0.1688, and Accuracy of: 96.26%\n",
            "Epoch #: 4, Batch #: 250, with Loss: 0.2372, and Accuracy of: 96.19%\n",
            "Epoch #: 4, Batch #: 500, with Loss: 0.1828, and Accuracy of: 96.57%\n",
            "Epoch #: 4, Batch #: 750, with Loss: 0.1527, and Accuracy of: 96.86%\n",
            "Epoch #: 5, Batch #: 250, with Loss: 0.2084, and Accuracy of: 96.76%\n",
            "Epoch #: 5, Batch #: 500, with Loss: 0.1635, and Accuracy of: 96.84%\n",
            "Epoch #: 5, Batch #: 750, with Loss: 0.1391, and Accuracy of: 97.09%\n",
            "Epoch #: 6, Batch #: 250, with Loss: 0.1932, and Accuracy of: 96.98%\n",
            "Epoch #: 6, Batch #: 500, with Loss: 0.1523, and Accuracy of: 96.96%\n",
            "Epoch #: 6, Batch #: 750, with Loss: 0.1255, and Accuracy of: 97.25%\n",
            "Epoch #: 7, Batch #: 250, with Loss: 0.1826, and Accuracy of: 97.18%\n",
            "Epoch #: 7, Batch #: 500, with Loss: 0.1463, and Accuracy of: 97.07%\n",
            "Epoch #: 7, Batch #: 750, with Loss: 0.1142, and Accuracy of: 97.37%\n",
            "Epoch #: 8, Batch #: 250, with Loss: 0.1753, and Accuracy of: 97.32%\n",
            "Epoch #: 8, Batch #: 500, with Loss: 0.1421, and Accuracy of: 97.16%\n",
            "Epoch #: 8, Batch #: 750, with Loss: 0.1044, and Accuracy of: 97.4%\n",
            "Epoch #: 9, Batch #: 250, with Loss: 0.1707, and Accuracy of: 97.4%\n",
            "Epoch #: 9, Batch #: 500, with Loss: 0.1396, and Accuracy of: 97.31%\n",
            "Epoch #: 9, Batch #: 750, with Loss: 0.0966, and Accuracy of: 97.53%\n",
            "Epoch #: 10, Batch #: 250, with Loss: 0.1674, and Accuracy of: 97.52%\n",
            "Epoch #: 10, Batch #: 500, with Loss: 0.1382, and Accuracy of: 97.35%\n",
            "Epoch #: 10, Batch #: 750, with Loss: 0.0911, and Accuracy of: 97.59%\n"
          ],
          "name": "stdout"
        }
      ]
    },
    {
      "cell_type": "markdown",
      "metadata": {
        "id": "Wcd4ZXUyqZ4o",
        "colab_type": "text"
      },
      "source": [
        "<table>\n",
        "  <thead>\n",
        "    <tr>\n",
        "      <th>#Filters in layer 1</th>\n",
        "      <th>Filter size in layer 1</th>\n",
        "      <th>#Filters in layer 2</th>\n",
        "      <th>Filter size in layer 2</th>\n",
        "      <th>Droput</th>\n",
        "      <th># Epoches</th>\n",
        "      <th>Learning rate</th>\n",
        "      <th>Optimizer</th>\n",
        "      <th>Accuracy</th>\n",
        "    </tr>\n",
        "  </thead>\n",
        "  <tbody>\n",
        "    <tr>\n",
        "      <td>3</td>\n",
        "      <td>3</td>\n",
        "      <td>2</td>\n",
        "      <td>5</td>\n",
        "      <td>No</td>\n",
        "      <td>15</td>\n",
        "      <td>0.01</td>\n",
        "      <td>Adam</td>\n",
        "      <td>96.42%</td>\n",
        "    </tr>\n",
        "    <tr>\n",
        "      <td>3</td>\n",
        "      <td>3</td>\n",
        "      <td>2</td>\n",
        "      <td>5</td>\n",
        "      <td>yes</td>\n",
        "      <td>15</td>\n",
        "      <td>0.01</td>\n",
        "      <td>Adam</td>\n",
        "      <td>95.26%</td>\n",
        "    </tr>\n",
        "      <tr>\n",
        "      <td>5</td>\n",
        "      <td>5</td>\n",
        "      <td>3</td>\n",
        "      <td>7</td>\n",
        "      <td>yes</td>\n",
        "      <td>10</td>\n",
        "      <td>0.01</td>\n",
        "      <td>Adam</td>\n",
        "      <td>96.87%</td>\n",
        "    </tr>\n",
        "       <tr>\n",
        "      <td>5</td>\n",
        "      <td>5</td>\n",
        "      <td>3</td>\n",
        "      <td>7</td>\n",
        "      <td>yes</td>\n",
        "      <td>10</td>\n",
        "      <td>0.01</td>\n",
        "      <td>SGD</td>\n",
        "      <td>97.59%</td>\n",
        "    </tr>\n",
        "  </tbody>\n",
        "</table>"
      ]
    }
  ]
}